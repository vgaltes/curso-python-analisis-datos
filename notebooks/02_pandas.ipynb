{
 "cells": [
  {
   "cell_type": "markdown",
   "metadata": {},
   "source": [
    "# Introducción a Pandas"
   ]
  },
  {
   "cell_type": "markdown",
   "metadata": {
    "collapsed": true
   },
   "source": [
    "Pandas es una librería de Python utilizada para tratar datos en forma de tabla. Nos permite importar, exportar y hacer las operaciones habituales que nos permiten otras herramientas como Excel o el lenguaje SQL"
   ]
  },
  {
   "cell_type": "markdown",
   "metadata": {},
   "source": [
    "## Importación y exportación\n",
    "\n",
    "Podemos importar datos a DataFrames de Pandas de diferentes orígenes y formatos, entre ellos:\n",
    "\n",
    "* De CSV: con [`read_csv`](https://pandas.pydata.org/pandas-docs/stable/generated/pandas.read_csv.html)\n",
    "* De Excel: con [`read_excel`](https://pandas.pydata.org/pandas-docs/stable/generated/pandas.read_excel.html)\n",
    "* De base de datos: con [`read_sql`](https://pandas.pydata.org/pandas-docs/stable/generated/pandas.read_sql.html)"
   ]
  },
  {
   "cell_type": "markdown",
   "metadata": {},
   "source": [
    "Como ejemplo, vamos a importar unos datos que tenemos en CSV con precios de alquileres en los distritos de Madrid:"
   ]
  },
  {
   "cell_type": "code",
   "execution_count": 1,
   "metadata": {},
   "outputs": [
    {
     "data": {
      "text/html": [
       "<div>\n",
       "<style scoped>\n",
       "    .dataframe tbody tr th:only-of-type {\n",
       "        vertical-align: middle;\n",
       "    }\n",
       "\n",
       "    .dataframe tbody tr th {\n",
       "        vertical-align: top;\n",
       "    }\n",
       "\n",
       "    .dataframe thead th {\n",
       "        text-align: right;\n",
       "    }\n",
       "</style>\n",
       "<table border=\"1\" class=\"dataframe\">\n",
       "  <thead>\n",
       "    <tr style=\"text-align: right;\">\n",
       "      <th></th>\n",
       "      <th>distrito</th>\n",
       "      <th>ano</th>\n",
       "      <th>quarter</th>\n",
       "      <th>precio</th>\n",
       "    </tr>\n",
       "  </thead>\n",
       "  <tbody>\n",
       "    <tr>\n",
       "      <td>0</td>\n",
       "      <td>Arganzuela</td>\n",
       "      <td>2007</td>\n",
       "      <td>2</td>\n",
       "      <td>13.066587</td>\n",
       "    </tr>\n",
       "    <tr>\n",
       "      <td>1</td>\n",
       "      <td>Barajas</td>\n",
       "      <td>2007</td>\n",
       "      <td>2</td>\n",
       "      <td>11.199855</td>\n",
       "    </tr>\n",
       "    <tr>\n",
       "      <td>2</td>\n",
       "      <td>Carabanchel</td>\n",
       "      <td>2007</td>\n",
       "      <td>2</td>\n",
       "      <td>11.127661</td>\n",
       "    </tr>\n",
       "    <tr>\n",
       "      <td>3</td>\n",
       "      <td>Centro</td>\n",
       "      <td>2007</td>\n",
       "      <td>2</td>\n",
       "      <td>17.746404</td>\n",
       "    </tr>\n",
       "    <tr>\n",
       "      <td>4</td>\n",
       "      <td>Chamartín</td>\n",
       "      <td>2007</td>\n",
       "      <td>2</td>\n",
       "      <td>14.386480</td>\n",
       "    </tr>\n",
       "  </tbody>\n",
       "</table>\n",
       "</div>"
      ],
      "text/plain": [
       "      distrito   ano  quarter     precio\n",
       "0   Arganzuela  2007        2  13.066587\n",
       "1      Barajas  2007        2  11.199855\n",
       "2  Carabanchel  2007        2  11.127661\n",
       "3       Centro  2007        2  17.746404\n",
       "4    Chamartín  2007        2  14.386480"
      ]
     },
     "execution_count": 1,
     "metadata": {},
     "output_type": "execute_result"
    }
   ],
   "source": [
    "import pandas as pd\n",
    "\n",
    "alquiler = pd.read_csv('dat/alquiler-madrid-distritos.csv', index_col=False)\n",
    "alquiler.head()"
   ]
  },
  {
   "cell_type": "markdown",
   "metadata": {},
   "source": [
    "También podemos exportar esos datos a CSV haciendo:"
   ]
  },
  {
   "cell_type": "code",
   "execution_count": 3,
   "metadata": {},
   "outputs": [],
   "source": [
    "alquiler.to_csv('alquiler.csv')"
   ]
  },
  {
   "cell_type": "markdown",
   "metadata": {},
   "source": [
    "#### Ejercicio \n",
    "\n",
    "Comprueba que se ha guardado el fichero correctamente. Antes de nada, tendrás que ubicarlo en tu disco duro. Debería estar en el directorio en el que se guardan los _notebooks_."
   ]
  },
  {
   "cell_type": "markdown",
   "metadata": {},
   "source": [
    "#### Nota\n",
    "\n",
    "Si te interesa saber cómo lanzar consultas a una base de datos usando SQL, puedes leer [este tutorial](https://www.pybonacci.org/2015/03/17/pandas-como-interfaz-sql/) (y los enlaces que contiene)."
   ]
  },
  {
   "cell_type": "markdown",
   "metadata": {},
   "source": [
    "#### Ejercicio\n",
    "\n",
    "Usa la función [`read_excel`](https://pandas.pydata.org/pandas-docs/stable/generated/pandas.read_excel.html) para importar a Python alguna tabla de tu interés"
   ]
  },
  {
   "cell_type": "code",
   "execution_count": 9,
   "metadata": {},
   "outputs": [
    {
     "data": {
      "text/html": [
       "<div>\n",
       "<style scoped>\n",
       "    .dataframe tbody tr th:only-of-type {\n",
       "        vertical-align: middle;\n",
       "    }\n",
       "\n",
       "    .dataframe tbody tr th {\n",
       "        vertical-align: top;\n",
       "    }\n",
       "\n",
       "    .dataframe thead th {\n",
       "        text-align: right;\n",
       "    }\n",
       "</style>\n",
       "<table border=\"1\" class=\"dataframe\">\n",
       "  <thead>\n",
       "    <tr style=\"text-align: right;\">\n",
       "      <th></th>\n",
       "      <th>COL2</th>\n",
       "      <th>COL3</th>\n",
       "      <th>COL4</th>\n",
       "    </tr>\n",
       "    <tr>\n",
       "      <th>COL1</th>\n",
       "      <th></th>\n",
       "      <th></th>\n",
       "      <th></th>\n",
       "    </tr>\n",
       "  </thead>\n",
       "  <tbody>\n",
       "    <tr>\n",
       "      <td>Nombre 1</td>\n",
       "      <td>VAlor 1</td>\n",
       "      <td>Valor 1.1</td>\n",
       "      <td>2020-01-01</td>\n",
       "    </tr>\n",
       "    <tr>\n",
       "      <td>Nombre 2</td>\n",
       "      <td>Valor 2</td>\n",
       "      <td>Valor 2.1</td>\n",
       "      <td>2020-01-02</td>\n",
       "    </tr>\n",
       "    <tr>\n",
       "      <td>Nombre 3</td>\n",
       "      <td>Valor 3</td>\n",
       "      <td>Valor 3.1</td>\n",
       "      <td>2020-01-03</td>\n",
       "    </tr>\n",
       "  </tbody>\n",
       "</table>\n",
       "</div>"
      ],
      "text/plain": [
       "             COL2       COL3       COL4\n",
       "COL1                                   \n",
       "Nombre 1  VAlor 1  Valor 1.1 2020-01-01\n",
       "Nombre 2  Valor 2  Valor 2.1 2020-01-02\n",
       "Nombre 3  Valor 3  Valor 3.1 2020-01-03"
      ]
     },
     "execution_count": 9,
     "metadata": {},
     "output_type": "execute_result"
    }
   ],
   "source": [
    "horeca = pd.read_excel('dat/TestExcel.xlsx', index_col=0)\n",
    "horeca.head()"
   ]
  },
  {
   "cell_type": "markdown",
   "metadata": {},
   "source": [
    "## Estructura básica e inspección\n",
    "\n",
    "Las tablas en `pandas` son objetos de la clase `DataFrames`. Un `DataFrame` consta de dos partes: un índice y los datos propiamente dichos. Las columnas de los datos son de la clase `Series`."
   ]
  },
  {
   "cell_type": "markdown",
   "metadata": {},
   "source": [
    "Para consultar las columnas de un `DataFrame`, accedemos a la propiedad `columns`."
   ]
  },
  {
   "cell_type": "code",
   "execution_count": 10,
   "metadata": {},
   "outputs": [
    {
     "data": {
      "text/plain": [
       "Index(['distrito', 'ano', 'quarter', 'precio'], dtype='object')"
      ]
     },
     "execution_count": 10,
     "metadata": {},
     "output_type": "execute_result"
    }
   ],
   "source": [
    "alquiler.columns"
   ]
  },
  {
   "cell_type": "markdown",
   "metadata": {},
   "source": [
    "Si además queremos saber el tipo del dato, accedemos a la propiedad `dtypes`.\n",
    "\n",
    "*Nota*: las cadenas de texto se marcan como `object` dentro de un DataFrame"
   ]
  },
  {
   "cell_type": "code",
   "execution_count": 13,
   "metadata": {},
   "outputs": [
    {
     "data": {
      "text/plain": [
       "distrito     object\n",
       "ano           int64\n",
       "quarter       int64\n",
       "precio      float64\n",
       "dtype: object"
      ]
     },
     "execution_count": 13,
     "metadata": {},
     "output_type": "execute_result"
    }
   ],
   "source": [
    "alquiler.dtypes"
   ]
  },
  {
   "cell_type": "markdown",
   "metadata": {},
   "source": [
    "Cada `DataFrame` tiene un índice. Si no lo hemos especificado, será un incremental sin relación con nuestros datos. El uso de índices está recomendado cuando tratamos con datos grandes, ya que permite acceder a las filas por _hash_ en lugar de tener que iterar por todas ellas para encontrar el valor que se busca. Los índices también son importantes a la hora de realizar agregaciones y cruces entre tablas.\n",
    "\n",
    "Para consultar cuál es el índice de un DataFrame, accedemos a la propiedad `index`."
   ]
  },
  {
   "cell_type": "code",
   "execution_count": 19,
   "metadata": {},
   "outputs": [
    {
     "data": {
      "text/plain": [
       "RangeIndex(start=0, stop=840, step=1)"
      ]
     },
     "execution_count": 19,
     "metadata": {},
     "output_type": "execute_result"
    }
   ],
   "source": [
    "alquiler.index"
   ]
  },
  {
   "cell_type": "markdown",
   "metadata": {},
   "source": [
    "Podemos alterarlo con `set_index`. El nuevo índice puede ser una o varias columnas."
   ]
  },
  {
   "cell_type": "code",
   "execution_count": 15,
   "metadata": {},
   "outputs": [],
   "source": [
    "alquiler_nuevo_indice = alquiler.set_index(['distrito', 'ano', 'quarter'])"
   ]
  },
  {
   "cell_type": "markdown",
   "metadata": {},
   "source": [
    "Una forma rápida de echar un vistazo a los datos es consultas las primeras o últimas filas del DataFrame, con las funciones `head` y `tail`."
   ]
  },
  {
   "cell_type": "code",
   "execution_count": 20,
   "metadata": {},
   "outputs": [
    {
     "data": {
      "text/html": [
       "<div>\n",
       "<style scoped>\n",
       "    .dataframe tbody tr th:only-of-type {\n",
       "        vertical-align: middle;\n",
       "    }\n",
       "\n",
       "    .dataframe tbody tr th {\n",
       "        vertical-align: top;\n",
       "    }\n",
       "\n",
       "    .dataframe thead th {\n",
       "        text-align: right;\n",
       "    }\n",
       "</style>\n",
       "<table border=\"1\" class=\"dataframe\">\n",
       "  <thead>\n",
       "    <tr style=\"text-align: right;\">\n",
       "      <th></th>\n",
       "      <th>distrito</th>\n",
       "      <th>ano</th>\n",
       "      <th>quarter</th>\n",
       "      <th>precio</th>\n",
       "    </tr>\n",
       "  </thead>\n",
       "  <tbody>\n",
       "    <tr>\n",
       "      <td>0</td>\n",
       "      <td>Arganzuela</td>\n",
       "      <td>2007</td>\n",
       "      <td>2</td>\n",
       "      <td>13.066587</td>\n",
       "    </tr>\n",
       "    <tr>\n",
       "      <td>1</td>\n",
       "      <td>Barajas</td>\n",
       "      <td>2007</td>\n",
       "      <td>2</td>\n",
       "      <td>11.199855</td>\n",
       "    </tr>\n",
       "    <tr>\n",
       "      <td>2</td>\n",
       "      <td>Carabanchel</td>\n",
       "      <td>2007</td>\n",
       "      <td>2</td>\n",
       "      <td>11.127661</td>\n",
       "    </tr>\n",
       "    <tr>\n",
       "      <td>3</td>\n",
       "      <td>Centro</td>\n",
       "      <td>2007</td>\n",
       "      <td>2</td>\n",
       "      <td>17.746404</td>\n",
       "    </tr>\n",
       "    <tr>\n",
       "      <td>4</td>\n",
       "      <td>Chamartín</td>\n",
       "      <td>2007</td>\n",
       "      <td>2</td>\n",
       "      <td>14.386480</td>\n",
       "    </tr>\n",
       "  </tbody>\n",
       "</table>\n",
       "</div>"
      ],
      "text/plain": [
       "      distrito   ano  quarter     precio\n",
       "0   Arganzuela  2007        2  13.066587\n",
       "1      Barajas  2007        2  11.199855\n",
       "2  Carabanchel  2007        2  11.127661\n",
       "3       Centro  2007        2  17.746404\n",
       "4    Chamartín  2007        2  14.386480"
      ]
     },
     "execution_count": 20,
     "metadata": {},
     "output_type": "execute_result"
    }
   ],
   "source": [
    "alquiler.head()"
   ]
  },
  {
   "cell_type": "code",
   "execution_count": 21,
   "metadata": {},
   "outputs": [
    {
     "data": {
      "text/html": [
       "<div>\n",
       "<style scoped>\n",
       "    .dataframe tbody tr th:only-of-type {\n",
       "        vertical-align: middle;\n",
       "    }\n",
       "\n",
       "    .dataframe tbody tr th {\n",
       "        vertical-align: top;\n",
       "    }\n",
       "\n",
       "    .dataframe thead th {\n",
       "        text-align: right;\n",
       "    }\n",
       "</style>\n",
       "<table border=\"1\" class=\"dataframe\">\n",
       "  <thead>\n",
       "    <tr style=\"text-align: right;\">\n",
       "      <th></th>\n",
       "      <th>distrito</th>\n",
       "      <th>ano</th>\n",
       "      <th>quarter</th>\n",
       "      <th>precio</th>\n",
       "    </tr>\n",
       "  </thead>\n",
       "  <tbody>\n",
       "    <tr>\n",
       "      <td>835</td>\n",
       "      <td>Tetuan</td>\n",
       "      <td>2018</td>\n",
       "      <td>2</td>\n",
       "      <td>15.114558</td>\n",
       "    </tr>\n",
       "    <tr>\n",
       "      <td>836</td>\n",
       "      <td>Usera</td>\n",
       "      <td>2018</td>\n",
       "      <td>2</td>\n",
       "      <td>11.533458</td>\n",
       "    </tr>\n",
       "    <tr>\n",
       "      <td>837</td>\n",
       "      <td>Vicálvaro</td>\n",
       "      <td>2018</td>\n",
       "      <td>2</td>\n",
       "      <td>9.962139</td>\n",
       "    </tr>\n",
       "    <tr>\n",
       "      <td>838</td>\n",
       "      <td>Villa De Vallecas</td>\n",
       "      <td>2018</td>\n",
       "      <td>2</td>\n",
       "      <td>10.915967</td>\n",
       "    </tr>\n",
       "    <tr>\n",
       "      <td>839</td>\n",
       "      <td>Villaverde</td>\n",
       "      <td>2018</td>\n",
       "      <td>2</td>\n",
       "      <td>10.427527</td>\n",
       "    </tr>\n",
       "  </tbody>\n",
       "</table>\n",
       "</div>"
      ],
      "text/plain": [
       "              distrito   ano  quarter     precio\n",
       "835             Tetuan  2018        2  15.114558\n",
       "836              Usera  2018        2  11.533458\n",
       "837          Vicálvaro  2018        2   9.962139\n",
       "838  Villa De Vallecas  2018        2  10.915967\n",
       "839         Villaverde  2018        2  10.427527"
      ]
     },
     "execution_count": 21,
     "metadata": {},
     "output_type": "execute_result"
    }
   ],
   "source": [
    "alquiler.tail()"
   ]
  },
  {
   "cell_type": "markdown",
   "metadata": {},
   "source": [
    "Podemos seleccionar un listado de columnas a devolver de la siguiente forma:"
   ]
  },
  {
   "cell_type": "code",
   "execution_count": 22,
   "metadata": {},
   "outputs": [
    {
     "data": {
      "text/html": [
       "<div>\n",
       "<style scoped>\n",
       "    .dataframe tbody tr th:only-of-type {\n",
       "        vertical-align: middle;\n",
       "    }\n",
       "\n",
       "    .dataframe tbody tr th {\n",
       "        vertical-align: top;\n",
       "    }\n",
       "\n",
       "    .dataframe thead th {\n",
       "        text-align: right;\n",
       "    }\n",
       "</style>\n",
       "<table border=\"1\" class=\"dataframe\">\n",
       "  <thead>\n",
       "    <tr style=\"text-align: right;\">\n",
       "      <th></th>\n",
       "      <th>distrito</th>\n",
       "      <th>precio</th>\n",
       "    </tr>\n",
       "  </thead>\n",
       "  <tbody>\n",
       "    <tr>\n",
       "      <td>0</td>\n",
       "      <td>Arganzuela</td>\n",
       "      <td>13.066587</td>\n",
       "    </tr>\n",
       "    <tr>\n",
       "      <td>1</td>\n",
       "      <td>Barajas</td>\n",
       "      <td>11.199855</td>\n",
       "    </tr>\n",
       "    <tr>\n",
       "      <td>2</td>\n",
       "      <td>Carabanchel</td>\n",
       "      <td>11.127661</td>\n",
       "    </tr>\n",
       "    <tr>\n",
       "      <td>3</td>\n",
       "      <td>Centro</td>\n",
       "      <td>17.746404</td>\n",
       "    </tr>\n",
       "    <tr>\n",
       "      <td>4</td>\n",
       "      <td>Chamartín</td>\n",
       "      <td>14.386480</td>\n",
       "    </tr>\n",
       "  </tbody>\n",
       "</table>\n",
       "</div>"
      ],
      "text/plain": [
       "      distrito     precio\n",
       "0   Arganzuela  13.066587\n",
       "1      Barajas  11.199855\n",
       "2  Carabanchel  11.127661\n",
       "3       Centro  17.746404\n",
       "4    Chamartín  14.386480"
      ]
     },
     "execution_count": 22,
     "metadata": {},
     "output_type": "execute_result"
    }
   ],
   "source": [
    "alquiler[['distrito', 'precio']].head()"
   ]
  },
  {
   "cell_type": "markdown",
   "metadata": {},
   "source": [
    "Para conocer el número de filas de una tabla hay varias opciones:"
   ]
  },
  {
   "cell_type": "code",
   "execution_count": 23,
   "metadata": {},
   "outputs": [
    {
     "data": {
      "text/plain": [
       "840"
      ]
     },
     "execution_count": 23,
     "metadata": {},
     "output_type": "execute_result"
    }
   ],
   "source": [
    "len(alquiler)"
   ]
  },
  {
   "cell_type": "code",
   "execution_count": 24,
   "metadata": {},
   "outputs": [
    {
     "data": {
      "text/plain": [
       "(840, 4)"
      ]
     },
     "execution_count": 24,
     "metadata": {},
     "output_type": "execute_result"
    }
   ],
   "source": [
    "alquiler.shape"
   ]
  },
  {
   "cell_type": "markdown",
   "metadata": {},
   "source": [
    "##### Nota\n",
    "\n",
    "El índice no forma parte propiamente de los datos:"
   ]
  },
  {
   "cell_type": "code",
   "execution_count": 25,
   "metadata": {},
   "outputs": [
    {
     "data": {
      "text/plain": [
       "(840, 1)"
      ]
     },
     "execution_count": 25,
     "metadata": {},
     "output_type": "execute_result"
    }
   ],
   "source": [
    "alquiler_nuevo_indice.shape"
   ]
  },
  {
   "cell_type": "markdown",
   "metadata": {},
   "source": [
    "### Ejercicio\n",
    "\n",
    "* Carga en un dataframe de pandas el csv `dat/alquiler-madrid-municipios.csv` en una variable que se llame `alquiler_municipios`\n",
    "* Examina las primeras y últimas filas\n",
    "* Extrae el número de filas y columnas"
   ]
  },
  {
   "cell_type": "code",
   "execution_count": 29,
   "metadata": {},
   "outputs": [
    {
     "data": {
      "text/plain": [
       "(1190, 4)"
      ]
     },
     "execution_count": 29,
     "metadata": {},
     "output_type": "execute_result"
    }
   ],
   "source": [
    "alquiler_municipios = pd.read_csv('dat/alquiler-madrid-municipios.csv')\n",
    "alquiler_municipios.head()\n",
    "alquiler_municipios.tail()\n",
    "len(alquiler_municipios)\n",
    "alquiler_municipios.shape"
   ]
  },
  {
   "cell_type": "markdown",
   "metadata": {},
   "source": [
    "## Filtro y selección"
   ]
  },
  {
   "cell_type": "markdown",
   "metadata": {},
   "source": [
    "Hay tres operadores fundamentales para seleccionar filas y columnas: `loc`, `iloc` y `[]`. La diferencia fundamental entre `loc` e `iloc` es que el primero requiere _etiquetas_ y el segundo, índices numéricos (la `i` inicial viene de `integer`).\n",
    "\n",
    "\n",
    "### Selección por índices numéricos\n",
    "\n",
    "Para acceder por posición usando índices numéricos, se usa `iloc[]`, como en los siguientes ejemplos:"
   ]
  },
  {
   "cell_type": "code",
   "execution_count": 33,
   "metadata": {},
   "outputs": [
    {
     "data": {
      "text/plain": [
       "precio    9.901414\n",
       "Name: (Moratalaz, 2010, 4), dtype: float64"
      ]
     },
     "execution_count": 33,
     "metadata": {},
     "output_type": "execute_result"
    }
   ],
   "source": [
    "# por defecto, seleccionamos filas\n",
    "alquiler_nuevo_indice.iloc[200]"
   ]
  },
  {
   "cell_type": "code",
   "execution_count": 36,
   "metadata": {},
   "outputs": [
    {
     "data": {
      "text/html": [
       "<div>\n",
       "<style scoped>\n",
       "    .dataframe tbody tr th:only-of-type {\n",
       "        vertical-align: middle;\n",
       "    }\n",
       "\n",
       "    .dataframe tbody tr th {\n",
       "        vertical-align: top;\n",
       "    }\n",
       "\n",
       "    .dataframe thead th {\n",
       "        text-align: right;\n",
       "    }\n",
       "</style>\n",
       "<table border=\"1\" class=\"dataframe\">\n",
       "  <thead>\n",
       "    <tr style=\"text-align: right;\">\n",
       "      <th></th>\n",
       "      <th>ano</th>\n",
       "      <th>quarter</th>\n",
       "      <th>precio</th>\n",
       "    </tr>\n",
       "  </thead>\n",
       "  <tbody>\n",
       "    <tr>\n",
       "      <td>3</td>\n",
       "      <td>2007</td>\n",
       "      <td>2</td>\n",
       "      <td>17.746404</td>\n",
       "    </tr>\n",
       "    <tr>\n",
       "      <td>4</td>\n",
       "      <td>2007</td>\n",
       "      <td>2</td>\n",
       "      <td>14.386480</td>\n",
       "    </tr>\n",
       "  </tbody>\n",
       "</table>\n",
       "</div>"
      ],
      "text/plain": [
       "    ano  quarter     precio\n",
       "3  2007        2  17.746404\n",
       "4  2007        2  14.386480"
      ]
     },
     "execution_count": 36,
     "metadata": {},
     "output_type": "execute_result"
    }
   ],
   "source": [
    "# pero también se pueden seleccionar filas y columnas\n",
    "# además, usando rangos\n",
    "alquiler.iloc[3:5, 1:]"
   ]
  },
  {
   "cell_type": "code",
   "execution_count": 37,
   "metadata": {},
   "outputs": [
    {
     "data": {
      "text/html": [
       "<div>\n",
       "<style scoped>\n",
       "    .dataframe tbody tr th:only-of-type {\n",
       "        vertical-align: middle;\n",
       "    }\n",
       "\n",
       "    .dataframe tbody tr th {\n",
       "        vertical-align: top;\n",
       "    }\n",
       "\n",
       "    .dataframe thead th {\n",
       "        text-align: right;\n",
       "    }\n",
       "</style>\n",
       "<table border=\"1\" class=\"dataframe\">\n",
       "  <thead>\n",
       "    <tr style=\"text-align: right;\">\n",
       "      <th></th>\n",
       "      <th>distrito</th>\n",
       "      <th>precio</th>\n",
       "    </tr>\n",
       "  </thead>\n",
       "  <tbody>\n",
       "    <tr>\n",
       "      <td>1</td>\n",
       "      <td>Barajas</td>\n",
       "      <td>11.199855</td>\n",
       "    </tr>\n",
       "    <tr>\n",
       "      <td>2</td>\n",
       "      <td>Carabanchel</td>\n",
       "      <td>11.127661</td>\n",
       "    </tr>\n",
       "    <tr>\n",
       "      <td>4</td>\n",
       "      <td>Chamartín</td>\n",
       "      <td>14.386480</td>\n",
       "    </tr>\n",
       "  </tbody>\n",
       "</table>\n",
       "</div>"
      ],
      "text/plain": [
       "      distrito     precio\n",
       "1      Barajas  11.199855\n",
       "2  Carabanchel  11.127661\n",
       "4    Chamartín  14.386480"
      ]
     },
     "execution_count": 37,
     "metadata": {},
     "output_type": "execute_result"
    }
   ],
   "source": [
    "# índices no consecutivos\n",
    "# recuerda: en python, se empieza a contar en 0\n",
    "alquiler.iloc[[1, 2, 4], [0, 3]]"
   ]
  },
  {
   "cell_type": "code",
   "execution_count": 38,
   "metadata": {},
   "outputs": [
    {
     "data": {
      "text/html": [
       "<div>\n",
       "<style scoped>\n",
       "    .dataframe tbody tr th:only-of-type {\n",
       "        vertical-align: middle;\n",
       "    }\n",
       "\n",
       "    .dataframe tbody tr th {\n",
       "        vertical-align: top;\n",
       "    }\n",
       "\n",
       "    .dataframe thead th {\n",
       "        text-align: right;\n",
       "    }\n",
       "</style>\n",
       "<table border=\"1\" class=\"dataframe\">\n",
       "  <thead>\n",
       "    <tr style=\"text-align: right;\">\n",
       "      <th></th>\n",
       "      <th>distrito</th>\n",
       "      <th>ano</th>\n",
       "      <th>quarter</th>\n",
       "      <th>precio</th>\n",
       "    </tr>\n",
       "  </thead>\n",
       "  <tbody>\n",
       "    <tr>\n",
       "      <td>837</td>\n",
       "      <td>Vicálvaro</td>\n",
       "      <td>2018</td>\n",
       "      <td>2</td>\n",
       "      <td>9.962139</td>\n",
       "    </tr>\n",
       "    <tr>\n",
       "      <td>838</td>\n",
       "      <td>Villa De Vallecas</td>\n",
       "      <td>2018</td>\n",
       "      <td>2</td>\n",
       "      <td>10.915967</td>\n",
       "    </tr>\n",
       "  </tbody>\n",
       "</table>\n",
       "</div>"
      ],
      "text/plain": [
       "              distrito   ano  quarter     precio\n",
       "837          Vicálvaro  2018        2   9.962139\n",
       "838  Villa De Vallecas  2018        2  10.915967"
      ]
     },
     "execution_count": 38,
     "metadata": {},
     "output_type": "execute_result"
    }
   ],
   "source": [
    "# los índices negativos indican que se empieza a contar desde el final\n",
    "alquiler.iloc[-3:-1]"
   ]
  },
  {
   "cell_type": "markdown",
   "metadata": {},
   "source": [
    "### Ejercicio\n",
    "\n",
    "* Muestra las primeras 5 filas usando `iloc`\n",
    "* Muestra las últimas 5 filas usando `iloc`"
   ]
  },
  {
   "cell_type": "code",
   "execution_count": 46,
   "metadata": {},
   "outputs": [
    {
     "data": {
      "text/html": [
       "<div>\n",
       "<style scoped>\n",
       "    .dataframe tbody tr th:only-of-type {\n",
       "        vertical-align: middle;\n",
       "    }\n",
       "\n",
       "    .dataframe tbody tr th {\n",
       "        vertical-align: top;\n",
       "    }\n",
       "\n",
       "    .dataframe thead th {\n",
       "        text-align: right;\n",
       "    }\n",
       "</style>\n",
       "<table border=\"1\" class=\"dataframe\">\n",
       "  <thead>\n",
       "    <tr style=\"text-align: right;\">\n",
       "      <th></th>\n",
       "      <th>distrito</th>\n",
       "      <th>ano</th>\n",
       "      <th>quarter</th>\n",
       "      <th>precio</th>\n",
       "    </tr>\n",
       "  </thead>\n",
       "  <tbody>\n",
       "    <tr>\n",
       "      <td>835</td>\n",
       "      <td>Tetuan</td>\n",
       "      <td>2018</td>\n",
       "      <td>2</td>\n",
       "      <td>15.114558</td>\n",
       "    </tr>\n",
       "    <tr>\n",
       "      <td>836</td>\n",
       "      <td>Usera</td>\n",
       "      <td>2018</td>\n",
       "      <td>2</td>\n",
       "      <td>11.533458</td>\n",
       "    </tr>\n",
       "    <tr>\n",
       "      <td>837</td>\n",
       "      <td>Vicálvaro</td>\n",
       "      <td>2018</td>\n",
       "      <td>2</td>\n",
       "      <td>9.962139</td>\n",
       "    </tr>\n",
       "    <tr>\n",
       "      <td>838</td>\n",
       "      <td>Villa De Vallecas</td>\n",
       "      <td>2018</td>\n",
       "      <td>2</td>\n",
       "      <td>10.915967</td>\n",
       "    </tr>\n",
       "    <tr>\n",
       "      <td>839</td>\n",
       "      <td>Villaverde</td>\n",
       "      <td>2018</td>\n",
       "      <td>2</td>\n",
       "      <td>10.427527</td>\n",
       "    </tr>\n",
       "  </tbody>\n",
       "</table>\n",
       "</div>"
      ],
      "text/plain": [
       "              distrito   ano  quarter     precio\n",
       "835             Tetuan  2018        2  15.114558\n",
       "836              Usera  2018        2  11.533458\n",
       "837          Vicálvaro  2018        2   9.962139\n",
       "838  Villa De Vallecas  2018        2  10.915967\n",
       "839         Villaverde  2018        2  10.427527"
      ]
     },
     "execution_count": 46,
     "metadata": {},
     "output_type": "execute_result"
    }
   ],
   "source": [
    "alquiler.iloc[-5:]"
   ]
  },
  {
   "cell_type": "markdown",
   "metadata": {},
   "source": [
    "### Selección por etiquetas\n",
    "\n",
    "Para acceder por _etiquetas_ (es decir, columnas parte del índice), se usa `loc[]`"
   ]
  },
  {
   "cell_type": "code",
   "execution_count": 47,
   "metadata": {},
   "outputs": [
    {
     "data": {
      "text/plain": [
       "precio    13.39\n",
       "Name: (Centro, 2014, 2), dtype: float64"
      ]
     },
     "execution_count": 47,
     "metadata": {},
     "output_type": "execute_result"
    }
   ],
   "source": [
    "alquiler_nuevo_indice.loc[('Centro', 2014, 2)]"
   ]
  },
  {
   "cell_type": "code",
   "execution_count": 48,
   "metadata": {},
   "outputs": [
    {
     "data": {
      "text/html": [
       "<div>\n",
       "<style scoped>\n",
       "    .dataframe tbody tr th:only-of-type {\n",
       "        vertical-align: middle;\n",
       "    }\n",
       "\n",
       "    .dataframe tbody tr th {\n",
       "        vertical-align: top;\n",
       "    }\n",
       "\n",
       "    .dataframe thead th {\n",
       "        text-align: right;\n",
       "    }\n",
       "</style>\n",
       "<table border=\"1\" class=\"dataframe\">\n",
       "  <thead>\n",
       "    <tr style=\"text-align: right;\">\n",
       "      <th></th>\n",
       "      <th></th>\n",
       "      <th>precio</th>\n",
       "    </tr>\n",
       "    <tr>\n",
       "      <th>ano</th>\n",
       "      <th>quarter</th>\n",
       "      <th></th>\n",
       "    </tr>\n",
       "  </thead>\n",
       "  <tbody>\n",
       "    <tr>\n",
       "      <td rowspan=\"2\" valign=\"top\">2007</td>\n",
       "      <td>2</td>\n",
       "      <td>17.746404</td>\n",
       "    </tr>\n",
       "    <tr>\n",
       "      <td>4</td>\n",
       "      <td>18.044594</td>\n",
       "    </tr>\n",
       "    <tr>\n",
       "      <td rowspan=\"2\" valign=\"top\">2008</td>\n",
       "      <td>2</td>\n",
       "      <td>17.618608</td>\n",
       "    </tr>\n",
       "    <tr>\n",
       "      <td>4</td>\n",
       "      <td>16.858053</td>\n",
       "    </tr>\n",
       "    <tr>\n",
       "      <td>2009</td>\n",
       "      <td>2</td>\n",
       "      <td>15.788713</td>\n",
       "    </tr>\n",
       "  </tbody>\n",
       "</table>\n",
       "</div>"
      ],
      "text/plain": [
       "                 precio\n",
       "ano  quarter           \n",
       "2007 2        17.746404\n",
       "     4        18.044594\n",
       "2008 2        17.618608\n",
       "     4        16.858053\n",
       "2009 2        15.788713"
      ]
     },
     "execution_count": 48,
     "metadata": {},
     "output_type": "execute_result"
    }
   ],
   "source": [
    "# O un distrito completo\n",
    "alquiler_nuevo_indice.loc[('Centro')].head()"
   ]
  },
  {
   "cell_type": "markdown",
   "metadata": {},
   "source": [
    "#### Ejercicio\n",
    "\n",
    "Muestra sobre `alquiler_nuevo_indice` las filas para distrito `Retiro` y año 2012."
   ]
  },
  {
   "cell_type": "code",
   "execution_count": 53,
   "metadata": {},
   "outputs": [
    {
     "data": {
      "text/html": [
       "<div>\n",
       "<style scoped>\n",
       "    .dataframe tbody tr th:only-of-type {\n",
       "        vertical-align: middle;\n",
       "    }\n",
       "\n",
       "    .dataframe tbody tr th {\n",
       "        vertical-align: top;\n",
       "    }\n",
       "\n",
       "    .dataframe thead th {\n",
       "        text-align: right;\n",
       "    }\n",
       "</style>\n",
       "<table border=\"1\" class=\"dataframe\">\n",
       "  <thead>\n",
       "    <tr style=\"text-align: right;\">\n",
       "      <th></th>\n",
       "      <th></th>\n",
       "      <th>precio</th>\n",
       "    </tr>\n",
       "    <tr>\n",
       "      <th>ano</th>\n",
       "      <th>quarter</th>\n",
       "      <th></th>\n",
       "    </tr>\n",
       "  </thead>\n",
       "  <tbody>\n",
       "    <tr>\n",
       "      <td rowspan=\"2\" valign=\"top\">2007</td>\n",
       "      <td>2</td>\n",
       "      <td>13.747522</td>\n",
       "    </tr>\n",
       "    <tr>\n",
       "      <td>4</td>\n",
       "      <td>14.021948</td>\n",
       "    </tr>\n",
       "    <tr>\n",
       "      <td rowspan=\"2\" valign=\"top\">2008</td>\n",
       "      <td>2</td>\n",
       "      <td>14.240559</td>\n",
       "    </tr>\n",
       "    <tr>\n",
       "      <td>4</td>\n",
       "      <td>13.974290</td>\n",
       "    </tr>\n",
       "    <tr>\n",
       "      <td>2009</td>\n",
       "      <td>2</td>\n",
       "      <td>13.019647</td>\n",
       "    </tr>\n",
       "  </tbody>\n",
       "</table>\n",
       "</div>"
      ],
      "text/plain": [
       "                 precio\n",
       "ano  quarter           \n",
       "2007 2        13.747522\n",
       "     4        14.021948\n",
       "2008 2        14.240559\n",
       "     4        13.974290\n",
       "2009 2        13.019647"
      ]
     },
     "execution_count": 53,
     "metadata": {},
     "output_type": "execute_result"
    }
   ],
   "source": [
    "alquiler_nuevo_indice.loc[('Retiro')].head()"
   ]
  },
  {
   "cell_type": "markdown",
   "metadata": {},
   "source": [
    "### Selección por condiciones\n",
    "\n",
    "Para extraer las filas que cumplen una condición, le pasamos al DataFrame una Series de booleanos, o directamente algo que la devuelva."
   ]
  },
  {
   "cell_type": "code",
   "execution_count": 52,
   "metadata": {},
   "outputs": [
    {
     "data": {
      "text/html": [
       "<div>\n",
       "<style scoped>\n",
       "    .dataframe tbody tr th:only-of-type {\n",
       "        vertical-align: middle;\n",
       "    }\n",
       "\n",
       "    .dataframe tbody tr th {\n",
       "        vertical-align: top;\n",
       "    }\n",
       "\n",
       "    .dataframe thead th {\n",
       "        text-align: right;\n",
       "    }\n",
       "</style>\n",
       "<table border=\"1\" class=\"dataframe\">\n",
       "  <thead>\n",
       "    <tr style=\"text-align: right;\">\n",
       "      <th></th>\n",
       "      <th>distrito</th>\n",
       "      <th>ano</th>\n",
       "      <th>quarter</th>\n",
       "      <th>precio</th>\n",
       "    </tr>\n",
       "  </thead>\n",
       "  <tbody>\n",
       "    <tr>\n",
       "      <td>13</td>\n",
       "      <td>Retiro</td>\n",
       "      <td>2007</td>\n",
       "      <td>2</td>\n",
       "      <td>13.747522</td>\n",
       "    </tr>\n",
       "    <tr>\n",
       "      <td>34</td>\n",
       "      <td>Retiro</td>\n",
       "      <td>2007</td>\n",
       "      <td>4</td>\n",
       "      <td>14.021948</td>\n",
       "    </tr>\n",
       "    <tr>\n",
       "      <td>55</td>\n",
       "      <td>Retiro</td>\n",
       "      <td>2008</td>\n",
       "      <td>2</td>\n",
       "      <td>14.240559</td>\n",
       "    </tr>\n",
       "    <tr>\n",
       "      <td>76</td>\n",
       "      <td>Retiro</td>\n",
       "      <td>2008</td>\n",
       "      <td>4</td>\n",
       "      <td>13.974290</td>\n",
       "    </tr>\n",
       "    <tr>\n",
       "      <td>97</td>\n",
       "      <td>Retiro</td>\n",
       "      <td>2009</td>\n",
       "      <td>2</td>\n",
       "      <td>13.019647</td>\n",
       "    </tr>\n",
       "  </tbody>\n",
       "</table>\n",
       "</div>"
      ],
      "text/plain": [
       "   distrito   ano  quarter     precio\n",
       "13   Retiro  2007        2  13.747522\n",
       "34   Retiro  2007        4  14.021948\n",
       "55   Retiro  2008        2  14.240559\n",
       "76   Retiro  2008        4  13.974290\n",
       "97   Retiro  2009        2  13.019647"
      ]
     },
     "execution_count": 52,
     "metadata": {},
     "output_type": "execute_result"
    }
   ],
   "source": [
    "alquiler[alquiler.distrito == 'Retiro'].head()"
   ]
  },
  {
   "cell_type": "markdown",
   "metadata": {},
   "source": [
    "**Nota:** mira cómo en el código anterior hemos seleccionado la columna `distrito` usando un punto, `alquiler.distrito`. Es una alternativa a la notación mediante corchetes, `alquiler['distrito']`.\n",
    "\n",
    "**Para profundizar:** puedes leer las diferentes ventajas e inconvenientes de la notación punto con respecto a la de corchetes [aquí](https://www.dataschool.io/pandas-dot-notation-vs-brackets/) y decidir cuál prefieres utilizar.\n",
    "\n",
    "Podemos combinar varias condiciones con `&` (y lógico) y `|` (o lógico)"
   ]
  },
  {
   "cell_type": "code",
   "execution_count": 54,
   "metadata": {},
   "outputs": [
    {
     "data": {
      "text/html": [
       "<div>\n",
       "<style scoped>\n",
       "    .dataframe tbody tr th:only-of-type {\n",
       "        vertical-align: middle;\n",
       "    }\n",
       "\n",
       "    .dataframe tbody tr th {\n",
       "        vertical-align: top;\n",
       "    }\n",
       "\n",
       "    .dataframe thead th {\n",
       "        text-align: right;\n",
       "    }\n",
       "</style>\n",
       "<table border=\"1\" class=\"dataframe\">\n",
       "  <thead>\n",
       "    <tr style=\"text-align: right;\">\n",
       "      <th></th>\n",
       "      <th>distrito</th>\n",
       "      <th>ano</th>\n",
       "      <th>quarter</th>\n",
       "      <th>precio</th>\n",
       "    </tr>\n",
       "  </thead>\n",
       "  <tbody>\n",
       "    <tr>\n",
       "      <td>307</td>\n",
       "      <td>Retiro</td>\n",
       "      <td>2012</td>\n",
       "      <td>1</td>\n",
       "      <td>12.601891</td>\n",
       "    </tr>\n",
       "    <tr>\n",
       "      <td>328</td>\n",
       "      <td>Retiro</td>\n",
       "      <td>2012</td>\n",
       "      <td>2</td>\n",
       "      <td>12.363832</td>\n",
       "    </tr>\n",
       "    <tr>\n",
       "      <td>349</td>\n",
       "      <td>Retiro</td>\n",
       "      <td>2012</td>\n",
       "      <td>3</td>\n",
       "      <td>12.167435</td>\n",
       "    </tr>\n",
       "    <tr>\n",
       "      <td>370</td>\n",
       "      <td>Retiro</td>\n",
       "      <td>2012</td>\n",
       "      <td>4</td>\n",
       "      <td>11.951317</td>\n",
       "    </tr>\n",
       "  </tbody>\n",
       "</table>\n",
       "</div>"
      ],
      "text/plain": [
       "    distrito   ano  quarter     precio\n",
       "307   Retiro  2012        1  12.601891\n",
       "328   Retiro  2012        2  12.363832\n",
       "349   Retiro  2012        3  12.167435\n",
       "370   Retiro  2012        4  11.951317"
      ]
     },
     "execution_count": 54,
     "metadata": {},
     "output_type": "execute_result"
    }
   ],
   "source": [
    "# No olvides los paréntesis, es importante por prioridad de operandos!\n",
    "\n",
    "alquiler[(alquiler.distrito == 'Retiro') & (alquiler.ano == 2012)]"
   ]
  },
  {
   "cell_type": "markdown",
   "metadata": {},
   "source": [
    "#### Ejercicio\n",
    "\n",
    "Extrae los nombres de los distritos cuyo precio por metro cuadrado es superior a 15€ en el año y trimestre más reciente del que tenemos datos (míralo imprimiento las últimas filas de la tabla)."
   ]
  },
  {
   "cell_type": "code",
   "execution_count": 55,
   "metadata": {},
   "outputs": [
    {
     "data": {
      "text/html": [
       "<div>\n",
       "<style scoped>\n",
       "    .dataframe tbody tr th:only-of-type {\n",
       "        vertical-align: middle;\n",
       "    }\n",
       "\n",
       "    .dataframe tbody tr th {\n",
       "        vertical-align: top;\n",
       "    }\n",
       "\n",
       "    .dataframe thead th {\n",
       "        text-align: right;\n",
       "    }\n",
       "</style>\n",
       "<table border=\"1\" class=\"dataframe\">\n",
       "  <thead>\n",
       "    <tr style=\"text-align: right;\">\n",
       "      <th></th>\n",
       "      <th>distrito</th>\n",
       "      <th>ano</th>\n",
       "      <th>quarter</th>\n",
       "      <th>precio</th>\n",
       "    </tr>\n",
       "  </thead>\n",
       "  <tbody>\n",
       "    <tr>\n",
       "      <td>835</td>\n",
       "      <td>Tetuan</td>\n",
       "      <td>2018</td>\n",
       "      <td>2</td>\n",
       "      <td>15.114558</td>\n",
       "    </tr>\n",
       "    <tr>\n",
       "      <td>836</td>\n",
       "      <td>Usera</td>\n",
       "      <td>2018</td>\n",
       "      <td>2</td>\n",
       "      <td>11.533458</td>\n",
       "    </tr>\n",
       "    <tr>\n",
       "      <td>837</td>\n",
       "      <td>Vicálvaro</td>\n",
       "      <td>2018</td>\n",
       "      <td>2</td>\n",
       "      <td>9.962139</td>\n",
       "    </tr>\n",
       "    <tr>\n",
       "      <td>838</td>\n",
       "      <td>Villa De Vallecas</td>\n",
       "      <td>2018</td>\n",
       "      <td>2</td>\n",
       "      <td>10.915967</td>\n",
       "    </tr>\n",
       "    <tr>\n",
       "      <td>839</td>\n",
       "      <td>Villaverde</td>\n",
       "      <td>2018</td>\n",
       "      <td>2</td>\n",
       "      <td>10.427527</td>\n",
       "    </tr>\n",
       "  </tbody>\n",
       "</table>\n",
       "</div>"
      ],
      "text/plain": [
       "              distrito   ano  quarter     precio\n",
       "835             Tetuan  2018        2  15.114558\n",
       "836              Usera  2018        2  11.533458\n",
       "837          Vicálvaro  2018        2   9.962139\n",
       "838  Villa De Vallecas  2018        2  10.915967\n",
       "839         Villaverde  2018        2  10.427527"
      ]
     },
     "execution_count": 55,
     "metadata": {},
     "output_type": "execute_result"
    }
   ],
   "source": [
    "alquiler.tail()"
   ]
  },
  {
   "cell_type": "code",
   "execution_count": 63,
   "metadata": {},
   "outputs": [
    {
     "data": {
      "text/plain": [
       "822       Centro\n",
       "823    Chamartín\n",
       "824     Chamberí\n",
       "829      Moncloa\n",
       "832       Retiro\n",
       "833    Salamanca\n",
       "835       Tetuan\n",
       "Name: distrito, dtype: object"
      ]
     },
     "execution_count": 63,
     "metadata": {},
     "output_type": "execute_result"
    }
   ],
   "source": [
    "alquiler.loc[(alquiler.ano == 2018) & (alquiler.quarter == 2) & (alquiler.precio > 15.0), 'distrito']"
   ]
  },
  {
   "cell_type": "markdown",
   "metadata": {},
   "source": [
    "## Ordenación\n",
    "\n",
    "Podemos ordenar un DataFrame por una o varias columnas, de forma ascendente o descendente, con [`sort_values`](https://pandas.pydata.org/pandas-docs/stable/generated/pandas.DataFrame.sort_values.html)"
   ]
  },
  {
   "cell_type": "code",
   "execution_count": 64,
   "metadata": {},
   "outputs": [
    {
     "data": {
      "text/html": [
       "<div>\n",
       "<style scoped>\n",
       "    .dataframe tbody tr th:only-of-type {\n",
       "        vertical-align: middle;\n",
       "    }\n",
       "\n",
       "    .dataframe tbody tr th {\n",
       "        vertical-align: top;\n",
       "    }\n",
       "\n",
       "    .dataframe thead th {\n",
       "        text-align: right;\n",
       "    }\n",
       "</style>\n",
       "<table border=\"1\" class=\"dataframe\">\n",
       "  <thead>\n",
       "    <tr style=\"text-align: right;\">\n",
       "      <th></th>\n",
       "      <th>distrito</th>\n",
       "      <th>ano</th>\n",
       "      <th>quarter</th>\n",
       "      <th>precio</th>\n",
       "    </tr>\n",
       "  </thead>\n",
       "  <tbody>\n",
       "    <tr>\n",
       "      <td>0</td>\n",
       "      <td>Arganzuela</td>\n",
       "      <td>2007</td>\n",
       "      <td>2</td>\n",
       "      <td>13.066587</td>\n",
       "    </tr>\n",
       "    <tr>\n",
       "      <td>504</td>\n",
       "      <td>Arganzuela</td>\n",
       "      <td>2014</td>\n",
       "      <td>3</td>\n",
       "      <td>10.774739</td>\n",
       "    </tr>\n",
       "    <tr>\n",
       "      <td>483</td>\n",
       "      <td>Arganzuela</td>\n",
       "      <td>2014</td>\n",
       "      <td>2</td>\n",
       "      <td>10.680000</td>\n",
       "    </tr>\n",
       "    <tr>\n",
       "      <td>462</td>\n",
       "      <td>Arganzuela</td>\n",
       "      <td>2014</td>\n",
       "      <td>1</td>\n",
       "      <td>10.937478</td>\n",
       "    </tr>\n",
       "    <tr>\n",
       "      <td>441</td>\n",
       "      <td>Arganzuela</td>\n",
       "      <td>2013</td>\n",
       "      <td>4</td>\n",
       "      <td>10.885807</td>\n",
       "    </tr>\n",
       "  </tbody>\n",
       "</table>\n",
       "</div>"
      ],
      "text/plain": [
       "       distrito   ano  quarter     precio\n",
       "0    Arganzuela  2007        2  13.066587\n",
       "504  Arganzuela  2014        3  10.774739\n",
       "483  Arganzuela  2014        2  10.680000\n",
       "462  Arganzuela  2014        1  10.937478\n",
       "441  Arganzuela  2013        4  10.885807"
      ]
     },
     "execution_count": 64,
     "metadata": {},
     "output_type": "execute_result"
    }
   ],
   "source": [
    "alquiler.sort_values('distrito', ascending=True).head()"
   ]
  },
  {
   "cell_type": "code",
   "execution_count": 65,
   "metadata": {},
   "outputs": [
    {
     "data": {
      "text/html": [
       "<div>\n",
       "<style scoped>\n",
       "    .dataframe tbody tr th:only-of-type {\n",
       "        vertical-align: middle;\n",
       "    }\n",
       "\n",
       "    .dataframe tbody tr th {\n",
       "        vertical-align: top;\n",
       "    }\n",
       "\n",
       "    .dataframe thead th {\n",
       "        text-align: right;\n",
       "    }\n",
       "</style>\n",
       "<table border=\"1\" class=\"dataframe\">\n",
       "  <thead>\n",
       "    <tr style=\"text-align: right;\">\n",
       "      <th></th>\n",
       "      <th>distrito</th>\n",
       "      <th>ano</th>\n",
       "      <th>quarter</th>\n",
       "      <th>precio</th>\n",
       "    </tr>\n",
       "  </thead>\n",
       "  <tbody>\n",
       "    <tr>\n",
       "      <td>819</td>\n",
       "      <td>Arganzuela</td>\n",
       "      <td>2018</td>\n",
       "      <td>2</td>\n",
       "      <td>14.596080</td>\n",
       "    </tr>\n",
       "    <tr>\n",
       "      <td>820</td>\n",
       "      <td>Barajas</td>\n",
       "      <td>2018</td>\n",
       "      <td>2</td>\n",
       "      <td>12.348824</td>\n",
       "    </tr>\n",
       "    <tr>\n",
       "      <td>821</td>\n",
       "      <td>Carabanchel</td>\n",
       "      <td>2018</td>\n",
       "      <td>2</td>\n",
       "      <td>11.613533</td>\n",
       "    </tr>\n",
       "    <tr>\n",
       "      <td>822</td>\n",
       "      <td>Centro</td>\n",
       "      <td>2018</td>\n",
       "      <td>2</td>\n",
       "      <td>18.812639</td>\n",
       "    </tr>\n",
       "    <tr>\n",
       "      <td>823</td>\n",
       "      <td>Chamartín</td>\n",
       "      <td>2018</td>\n",
       "      <td>2</td>\n",
       "      <td>16.606506</td>\n",
       "    </tr>\n",
       "  </tbody>\n",
       "</table>\n",
       "</div>"
      ],
      "text/plain": [
       "        distrito   ano  quarter     precio\n",
       "819   Arganzuela  2018        2  14.596080\n",
       "820      Barajas  2018        2  12.348824\n",
       "821  Carabanchel  2018        2  11.613533\n",
       "822       Centro  2018        2  18.812639\n",
       "823    Chamartín  2018        2  16.606506"
      ]
     },
     "execution_count": 65,
     "metadata": {},
     "output_type": "execute_result"
    }
   ],
   "source": [
    "alquiler.sort_values(['ano', 'quarter', 'distrito'], ascending=[False, False, True]).head()"
   ]
  },
  {
   "cell_type": "markdown",
   "metadata": {},
   "source": [
    "#### Ejercicio\n",
    "\n",
    "Extrae de mayor a menor por precio las filas de la tabla para Tetuán a partir del año 2017."
   ]
  },
  {
   "cell_type": "code",
   "execution_count": 71,
   "metadata": {},
   "outputs": [
    {
     "data": {
      "text/html": [
       "<div>\n",
       "<style scoped>\n",
       "    .dataframe tbody tr th:only-of-type {\n",
       "        vertical-align: middle;\n",
       "    }\n",
       "\n",
       "    .dataframe tbody tr th {\n",
       "        vertical-align: top;\n",
       "    }\n",
       "\n",
       "    .dataframe thead th {\n",
       "        text-align: right;\n",
       "    }\n",
       "</style>\n",
       "<table border=\"1\" class=\"dataframe\">\n",
       "  <thead>\n",
       "    <tr style=\"text-align: right;\">\n",
       "      <th></th>\n",
       "      <th>distrito</th>\n",
       "      <th>ano</th>\n",
       "      <th>quarter</th>\n",
       "      <th>precio</th>\n",
       "    </tr>\n",
       "  </thead>\n",
       "  <tbody>\n",
       "    <tr>\n",
       "      <td>793</td>\n",
       "      <td>Tetuan</td>\n",
       "      <td>2017</td>\n",
       "      <td>4</td>\n",
       "      <td>15.332326</td>\n",
       "    </tr>\n",
       "    <tr>\n",
       "      <td>835</td>\n",
       "      <td>Tetuan</td>\n",
       "      <td>2018</td>\n",
       "      <td>2</td>\n",
       "      <td>15.114558</td>\n",
       "    </tr>\n",
       "    <tr>\n",
       "      <td>814</td>\n",
       "      <td>Tetuan</td>\n",
       "      <td>2018</td>\n",
       "      <td>1</td>\n",
       "      <td>15.070236</td>\n",
       "    </tr>\n",
       "    <tr>\n",
       "      <td>772</td>\n",
       "      <td>Tetuan</td>\n",
       "      <td>2017</td>\n",
       "      <td>3</td>\n",
       "      <td>14.949865</td>\n",
       "    </tr>\n",
       "    <tr>\n",
       "      <td>730</td>\n",
       "      <td>Tetuan</td>\n",
       "      <td>2017</td>\n",
       "      <td>1</td>\n",
       "      <td>14.528777</td>\n",
       "    </tr>\n",
       "  </tbody>\n",
       "</table>\n",
       "</div>"
      ],
      "text/plain": [
       "    distrito   ano  quarter     precio\n",
       "793   Tetuan  2017        4  15.332326\n",
       "835   Tetuan  2018        2  15.114558\n",
       "814   Tetuan  2018        1  15.070236\n",
       "772   Tetuan  2017        3  14.949865\n",
       "730   Tetuan  2017        1  14.528777"
      ]
     },
     "execution_count": 71,
     "metadata": {},
     "output_type": "execute_result"
    }
   ],
   "source": [
    "alquiler.loc[(alquiler.distrito == \"Tetuan\") & (alquiler.ano >= 2017)].sort_values('precio', ascending=False).head()"
   ]
  },
  {
   "cell_type": "markdown",
   "metadata": {},
   "source": [
    "## Transformación\n",
    "\n",
    "Nuevas columnas calculadas, cambio de tipo de dato, eliminar una columna\n",
    "\n"
   ]
  },
  {
   "cell_type": "markdown",
   "metadata": {},
   "source": [
    "### Crear una columna calculada\n",
    "\n",
    "Podemos operar sobre las columnas para crear otras nuevas"
   ]
  },
  {
   "cell_type": "code",
   "execution_count": 73,
   "metadata": {},
   "outputs": [
    {
     "data": {
      "text/html": [
       "<div>\n",
       "<style scoped>\n",
       "    .dataframe tbody tr th:only-of-type {\n",
       "        vertical-align: middle;\n",
       "    }\n",
       "\n",
       "    .dataframe tbody tr th {\n",
       "        vertical-align: top;\n",
       "    }\n",
       "\n",
       "    .dataframe thead th {\n",
       "        text-align: right;\n",
       "    }\n",
       "</style>\n",
       "<table border=\"1\" class=\"dataframe\">\n",
       "  <thead>\n",
       "    <tr style=\"text-align: right;\">\n",
       "      <th></th>\n",
       "      <th>distrito</th>\n",
       "      <th>ano</th>\n",
       "      <th>quarter</th>\n",
       "      <th>precio</th>\n",
       "      <th>precio_90m</th>\n",
       "    </tr>\n",
       "  </thead>\n",
       "  <tbody>\n",
       "    <tr>\n",
       "      <td>0</td>\n",
       "      <td>Arganzuela</td>\n",
       "      <td>2007</td>\n",
       "      <td>2</td>\n",
       "      <td>13.066587</td>\n",
       "      <td>1175.992857</td>\n",
       "    </tr>\n",
       "    <tr>\n",
       "      <td>1</td>\n",
       "      <td>Barajas</td>\n",
       "      <td>2007</td>\n",
       "      <td>2</td>\n",
       "      <td>11.199855</td>\n",
       "      <td>1007.986923</td>\n",
       "    </tr>\n",
       "    <tr>\n",
       "      <td>2</td>\n",
       "      <td>Carabanchel</td>\n",
       "      <td>2007</td>\n",
       "      <td>2</td>\n",
       "      <td>11.127661</td>\n",
       "      <td>1001.489519</td>\n",
       "    </tr>\n",
       "    <tr>\n",
       "      <td>3</td>\n",
       "      <td>Centro</td>\n",
       "      <td>2007</td>\n",
       "      <td>2</td>\n",
       "      <td>17.746404</td>\n",
       "      <td>1597.176343</td>\n",
       "    </tr>\n",
       "    <tr>\n",
       "      <td>4</td>\n",
       "      <td>Chamartín</td>\n",
       "      <td>2007</td>\n",
       "      <td>2</td>\n",
       "      <td>14.386480</td>\n",
       "      <td>1294.783156</td>\n",
       "    </tr>\n",
       "  </tbody>\n",
       "</table>\n",
       "</div>"
      ],
      "text/plain": [
       "      distrito   ano  quarter     precio   precio_90m\n",
       "0   Arganzuela  2007        2  13.066587  1175.992857\n",
       "1      Barajas  2007        2  11.199855  1007.986923\n",
       "2  Carabanchel  2007        2  11.127661  1001.489519\n",
       "3       Centro  2007        2  17.746404  1597.176343\n",
       "4    Chamartín  2007        2  14.386480  1294.783156"
      ]
     },
     "execution_count": 73,
     "metadata": {},
     "output_type": "execute_result"
    }
   ],
   "source": [
    "# Hago una copia para no modificar el dataframe original\n",
    "alquiler_2 = alquiler.copy()\n",
    "\n",
    "alquiler_2['precio_90m'] = alquiler_2.precio * 90\n",
    "alquiler_2.head()"
   ]
  },
  {
   "cell_type": "markdown",
   "metadata": {},
   "source": [
    "Las operaciones que no se pueden lanzar directamente sobre la `Series` completa, la ejecutamos por elemento utilizando `apply`"
   ]
  },
  {
   "cell_type": "code",
   "execution_count": 80,
   "metadata": {},
   "outputs": [
    {
     "data": {
      "text/html": [
       "<div>\n",
       "<style scoped>\n",
       "    .dataframe tbody tr th:only-of-type {\n",
       "        vertical-align: middle;\n",
       "    }\n",
       "\n",
       "    .dataframe tbody tr th {\n",
       "        vertical-align: top;\n",
       "    }\n",
       "\n",
       "    .dataframe thead th {\n",
       "        text-align: right;\n",
       "    }\n",
       "</style>\n",
       "<table border=\"1\" class=\"dataframe\">\n",
       "  <thead>\n",
       "    <tr style=\"text-align: right;\">\n",
       "      <th></th>\n",
       "      <th>distrito</th>\n",
       "      <th>ano</th>\n",
       "      <th>quarter</th>\n",
       "      <th>precio</th>\n",
       "      <th>precio_90m</th>\n",
       "      <th>ano_quarter</th>\n",
       "    </tr>\n",
       "  </thead>\n",
       "  <tbody>\n",
       "    <tr>\n",
       "      <td>0</td>\n",
       "      <td>Arganzuela</td>\n",
       "      <td>2007</td>\n",
       "      <td>2</td>\n",
       "      <td>13.066587</td>\n",
       "      <td>1175.992857</td>\n",
       "      <td>2007Q2</td>\n",
       "    </tr>\n",
       "    <tr>\n",
       "      <td>1</td>\n",
       "      <td>Barajas</td>\n",
       "      <td>2007</td>\n",
       "      <td>2</td>\n",
       "      <td>11.199855</td>\n",
       "      <td>1007.986923</td>\n",
       "      <td>2007Q2</td>\n",
       "    </tr>\n",
       "    <tr>\n",
       "      <td>2</td>\n",
       "      <td>Carabanchel</td>\n",
       "      <td>2007</td>\n",
       "      <td>2</td>\n",
       "      <td>11.127661</td>\n",
       "      <td>1001.489519</td>\n",
       "      <td>2007Q2</td>\n",
       "    </tr>\n",
       "    <tr>\n",
       "      <td>3</td>\n",
       "      <td>Centro</td>\n",
       "      <td>2007</td>\n",
       "      <td>2</td>\n",
       "      <td>17.746404</td>\n",
       "      <td>1597.176343</td>\n",
       "      <td>2007Q2</td>\n",
       "    </tr>\n",
       "    <tr>\n",
       "      <td>4</td>\n",
       "      <td>Chamartín</td>\n",
       "      <td>2007</td>\n",
       "      <td>2</td>\n",
       "      <td>14.386480</td>\n",
       "      <td>1294.783156</td>\n",
       "      <td>2007Q2</td>\n",
       "    </tr>\n",
       "  </tbody>\n",
       "</table>\n",
       "</div>"
      ],
      "text/plain": [
       "      distrito   ano  quarter     precio   precio_90m ano_quarter\n",
       "0   Arganzuela  2007        2  13.066587  1175.992857      2007Q2\n",
       "1      Barajas  2007        2  11.199855  1007.986923      2007Q2\n",
       "2  Carabanchel  2007        2  11.127661  1001.489519      2007Q2\n",
       "3       Centro  2007        2  17.746404  1597.176343      2007Q2\n",
       "4    Chamartín  2007        2  14.386480  1294.783156      2007Q2"
      ]
     },
     "execution_count": 80,
     "metadata": {},
     "output_type": "execute_result"
    }
   ],
   "source": [
    "# Fíjate bien en la función lambda, es una función en una sola línea\n",
    "alquiler_2['ano_quarter'] = alquiler_2.apply(lambda fila: str(fila.ano) + 'Q' + str(fila.quarter), axis=1)\n",
    "alquiler_2.head()"
   ]
  },
  {
   "cell_type": "markdown",
   "metadata": {},
   "source": [
    "#### Ejercicio\n",
    "\n",
    "Crea una nueva columna `precio_120m` sobre `alquiler_2` que represente el precio de 120 metros cuadrados, pero utilizando `apply` y una función `lambda`."
   ]
  },
  {
   "cell_type": "code",
   "execution_count": 83,
   "metadata": {},
   "outputs": [
    {
     "data": {
      "text/html": [
       "<div>\n",
       "<style scoped>\n",
       "    .dataframe tbody tr th:only-of-type {\n",
       "        vertical-align: middle;\n",
       "    }\n",
       "\n",
       "    .dataframe tbody tr th {\n",
       "        vertical-align: top;\n",
       "    }\n",
       "\n",
       "    .dataframe thead th {\n",
       "        text-align: right;\n",
       "    }\n",
       "</style>\n",
       "<table border=\"1\" class=\"dataframe\">\n",
       "  <thead>\n",
       "    <tr style=\"text-align: right;\">\n",
       "      <th></th>\n",
       "      <th>distrito</th>\n",
       "      <th>ano</th>\n",
       "      <th>quarter</th>\n",
       "      <th>precio</th>\n",
       "      <th>precio_90m</th>\n",
       "      <th>ano_quarter</th>\n",
       "      <th>precio_120m</th>\n",
       "    </tr>\n",
       "  </thead>\n",
       "  <tbody>\n",
       "    <tr>\n",
       "      <td>0</td>\n",
       "      <td>Arganzuela</td>\n",
       "      <td>2007</td>\n",
       "      <td>2</td>\n",
       "      <td>13.066587</td>\n",
       "      <td>1175.992857</td>\n",
       "      <td>2007Q2</td>\n",
       "      <td>1567.990475</td>\n",
       "    </tr>\n",
       "    <tr>\n",
       "      <td>1</td>\n",
       "      <td>Barajas</td>\n",
       "      <td>2007</td>\n",
       "      <td>2</td>\n",
       "      <td>11.199855</td>\n",
       "      <td>1007.986923</td>\n",
       "      <td>2007Q2</td>\n",
       "      <td>1343.982565</td>\n",
       "    </tr>\n",
       "    <tr>\n",
       "      <td>2</td>\n",
       "      <td>Carabanchel</td>\n",
       "      <td>2007</td>\n",
       "      <td>2</td>\n",
       "      <td>11.127661</td>\n",
       "      <td>1001.489519</td>\n",
       "      <td>2007Q2</td>\n",
       "      <td>1335.319359</td>\n",
       "    </tr>\n",
       "    <tr>\n",
       "      <td>3</td>\n",
       "      <td>Centro</td>\n",
       "      <td>2007</td>\n",
       "      <td>2</td>\n",
       "      <td>17.746404</td>\n",
       "      <td>1597.176343</td>\n",
       "      <td>2007Q2</td>\n",
       "      <td>2129.568457</td>\n",
       "    </tr>\n",
       "    <tr>\n",
       "      <td>4</td>\n",
       "      <td>Chamartín</td>\n",
       "      <td>2007</td>\n",
       "      <td>2</td>\n",
       "      <td>14.386480</td>\n",
       "      <td>1294.783156</td>\n",
       "      <td>2007Q2</td>\n",
       "      <td>1726.377541</td>\n",
       "    </tr>\n",
       "  </tbody>\n",
       "</table>\n",
       "</div>"
      ],
      "text/plain": [
       "      distrito   ano  quarter     precio   precio_90m ano_quarter  precio_120m\n",
       "0   Arganzuela  2007        2  13.066587  1175.992857      2007Q2  1567.990475\n",
       "1      Barajas  2007        2  11.199855  1007.986923      2007Q2  1343.982565\n",
       "2  Carabanchel  2007        2  11.127661  1001.489519      2007Q2  1335.319359\n",
       "3       Centro  2007        2  17.746404  1597.176343      2007Q2  2129.568457\n",
       "4    Chamartín  2007        2  14.386480  1294.783156      2007Q2  1726.377541"
      ]
     },
     "execution_count": 83,
     "metadata": {},
     "output_type": "execute_result"
    }
   ],
   "source": [
    "alquiler_2['precio_120m'] = alquiler_2.apply(lambda fila: fila.precio * 120, axis=1)\n",
    "alquiler_2.head()"
   ]
  },
  {
   "cell_type": "markdown",
   "metadata": {},
   "source": [
    "### Renombrar una columna\n",
    "\n",
    "Fíjate en la documentación de `rename` y sus ejemplos, [aquí](https://pandas.pydata.org/pandas-docs/stable/reference/api/pandas.DataFrame.rename.html).\n",
    "\n",
    "Por ejemplo, para renombrar la columna `precio_90m` a `precio_90_metros` sería:"
   ]
  },
  {
   "cell_type": "code",
   "execution_count": null,
   "metadata": {},
   "outputs": [],
   "source": [
    "alquiler_2 = alquiler_2.rename(columns={'precio_90m': 'precio_90_metros'})\n",
    "alquiler_2.head()"
   ]
  },
  {
   "cell_type": "markdown",
   "metadata": {},
   "source": [
    "Fíjate en el ejemplo anterior. En general, las funciones de `pandas` crean un nuevo objeto con el resultado de la operación, pero no modifican el actual. En estas funciones, suele haber un parámetro `inplace` con valor por defecto a `False`. Si lo ponemos a `True`, la operación se realiza sobre el objeto que pasamos por parámetro."
   ]
  },
  {
   "cell_type": "markdown",
   "metadata": {},
   "source": [
    "#### La importancia de la nomenclatura\n",
    "\n",
    "Tener buenos nombres de columnas en un DataFrame es importante. Hará mucho más legible nuestro código si nuestras columnas tienen nombres descriptivos, sin caracteres extraños y separados por `_`.\n",
    "\n",
    "Unos cuantos ejemplos de malos nombres:\n",
    "\n",
    "* `col1`, `col2`, ..., `colN`: no sabemos qué es cada cosa.\n",
    "* `precio euros`, `metros cuadrados`: los espacios dificultan escribir código. Por ejemplo, ya no podremos acceder a las columnas con la notación `dataframe.columna`.\n",
    "* `año`, `variación`, `precio_€`: los caracteres no-asciii (que no son letras no acentuadas ni números) pueden dar problemas al compartir código (p.e. entre Linux y Windows), al exportar / importar, etc. Es mejor evitarlos.\n",
    "* `PrecioEuros`, `MetrosCuadrados`: aunque es más sutil, el estándar en Python es escribir en snake_case. Es decir, utilizando minúsculas y usando `_` para separar palabras.\n",
    "\n",
    "Ejemplo de buenos nombres:\n",
    "\n",
    "* `distrito`, `precio_euros`, `metros_cuadrados`"
   ]
  },
  {
   "cell_type": "markdown",
   "metadata": {},
   "source": [
    "### Eliminar una columna\n",
    "\n",
    "Podemos utilizar [`drop`](https://pandas.pydata.org/pandas-docs/stable/reference/api/pandas.DataFrame.drop.html).\n",
    "\n",
    "Por ejemplo:"
   ]
  },
  {
   "cell_type": "code",
   "execution_count": null,
   "metadata": {},
   "outputs": [],
   "source": [
    "alquiler_2 = alquiler_2.drop(columns=['precio_90_metros'])\n",
    "alquiler_2.head()"
   ]
  },
  {
   "cell_type": "markdown",
   "metadata": {},
   "source": [
    "#### Cambiar el tipo de dato\n",
    "\n",
    "Vamos a crear un DataFrame muy simple para verlo."
   ]
  },
  {
   "cell_type": "code",
   "execution_count": 85,
   "metadata": {},
   "outputs": [
    {
     "data": {
      "text/html": [
       "<div>\n",
       "<style scoped>\n",
       "    .dataframe tbody tr th:only-of-type {\n",
       "        vertical-align: middle;\n",
       "    }\n",
       "\n",
       "    .dataframe tbody tr th {\n",
       "        vertical-align: top;\n",
       "    }\n",
       "\n",
       "    .dataframe thead th {\n",
       "        text-align: right;\n",
       "    }\n",
       "</style>\n",
       "<table border=\"1\" class=\"dataframe\">\n",
       "  <thead>\n",
       "    <tr style=\"text-align: right;\">\n",
       "      <th></th>\n",
       "      <th>precio</th>\n",
       "    </tr>\n",
       "  </thead>\n",
       "  <tbody>\n",
       "    <tr>\n",
       "      <td>0</td>\n",
       "      <td>10.50</td>\n",
       "    </tr>\n",
       "    <tr>\n",
       "      <td>1</td>\n",
       "      <td>15.35</td>\n",
       "    </tr>\n",
       "    <tr>\n",
       "      <td>2</td>\n",
       "      <td>22.15</td>\n",
       "    </tr>\n",
       "  </tbody>\n",
       "</table>\n",
       "</div>"
      ],
      "text/plain": [
       "  precio\n",
       "0  10.50\n",
       "1  15.35\n",
       "2  22.15"
      ]
     },
     "execution_count": 85,
     "metadata": {},
     "output_type": "execute_result"
    }
   ],
   "source": [
    "prueba = pd.DataFrame({'precio': ['10.50', '15.35', '22.15']})\n",
    "prueba"
   ]
  },
  {
   "cell_type": "code",
   "execution_count": 86,
   "metadata": {},
   "outputs": [
    {
     "data": {
      "text/plain": [
       "precio    object\n",
       "dtype: object"
      ]
     },
     "execution_count": 86,
     "metadata": {},
     "output_type": "execute_result"
    }
   ],
   "source": [
    "prueba.dtypes"
   ]
  },
  {
   "cell_type": "markdown",
   "metadata": {},
   "source": [
    "Tenemos un DataFrame con precios, pero estos son cadenas de texto en lugar de números. Esto va a limitar nuestro análisis: no podremos ejecutar operaciones aritméticas, calcular medias, etc.\n",
    "\n",
    "Es muy habitual que esto pase en el momento de cargar unos datos. Veremos más adelante cómo solucionar problemas al cargar CSVs de habla española, que utilizan la coma como separador decimal en lugar del punto, que es el que entiende Python (y, en general, todos los lenguajes de programación).\n",
    "\n",
    "Sobre nuestro ejemplo actual `prueba`, podemos usar [`astype`](https://pandas.pydata.org/pandas-docs/stable/reference/api/pandas.DataFrame.astype.html) para convertir la columna a numérica. En este caso, como es numérica con decimales, usaremos el tipo `float`."
   ]
  },
  {
   "cell_type": "code",
   "execution_count": 87,
   "metadata": {},
   "outputs": [
    {
     "data": {
      "text/plain": [
       "precio    float64\n",
       "dtype: object"
      ]
     },
     "execution_count": 87,
     "metadata": {},
     "output_type": "execute_result"
    }
   ],
   "source": [
    "prueba['precio'] = prueba.precio.astype(float)\n",
    "prueba.dtypes"
   ]
  },
  {
   "cell_type": "markdown",
   "metadata": {},
   "source": [
    "## Resumen estadístico\n",
    "\n",
    "Pandas provee una serie de funciones de resumen estadístico que podemos aplicar sobre una columna concreta, o sobre todas las del DataFrame."
   ]
  },
  {
   "cell_type": "markdown",
   "metadata": {},
   "source": [
    "Para un resumen para todas las columnas de número de filas, media, desviación estándar, cuartiles, ... usamos [`describe`](https://pandas.pydata.org/pandas-docs/stable/generated/pandas.DataFrame.describe.html)"
   ]
  },
  {
   "cell_type": "code",
   "execution_count": 88,
   "metadata": {},
   "outputs": [
    {
     "data": {
      "text/html": [
       "<div>\n",
       "<style scoped>\n",
       "    .dataframe tbody tr th:only-of-type {\n",
       "        vertical-align: middle;\n",
       "    }\n",
       "\n",
       "    .dataframe tbody tr th {\n",
       "        vertical-align: top;\n",
       "    }\n",
       "\n",
       "    .dataframe thead th {\n",
       "        text-align: right;\n",
       "    }\n",
       "</style>\n",
       "<table border=\"1\" class=\"dataframe\">\n",
       "  <thead>\n",
       "    <tr style=\"text-align: right;\">\n",
       "      <th></th>\n",
       "      <th>ano</th>\n",
       "      <th>quarter</th>\n",
       "      <th>precio</th>\n",
       "    </tr>\n",
       "  </thead>\n",
       "  <tbody>\n",
       "    <tr>\n",
       "      <td>count</td>\n",
       "      <td>840.00000</td>\n",
       "      <td>840.00000</td>\n",
       "      <td>840.000000</td>\n",
       "    </tr>\n",
       "    <tr>\n",
       "      <td>mean</td>\n",
       "      <td>2012.90000</td>\n",
       "      <td>2.52500</td>\n",
       "      <td>11.545779</td>\n",
       "    </tr>\n",
       "    <tr>\n",
       "      <td>std</td>\n",
       "      <td>3.08242</td>\n",
       "      <td>1.11842</td>\n",
       "      <td>2.271275</td>\n",
       "    </tr>\n",
       "    <tr>\n",
       "      <td>min</td>\n",
       "      <td>2007.00000</td>\n",
       "      <td>1.00000</td>\n",
       "      <td>7.591541</td>\n",
       "    </tr>\n",
       "    <tr>\n",
       "      <td>25%</td>\n",
       "      <td>2010.75000</td>\n",
       "      <td>2.00000</td>\n",
       "      <td>9.853159</td>\n",
       "    </tr>\n",
       "    <tr>\n",
       "      <td>50%</td>\n",
       "      <td>2013.00000</td>\n",
       "      <td>2.00000</td>\n",
       "      <td>11.132781</td>\n",
       "    </tr>\n",
       "    <tr>\n",
       "      <td>75%</td>\n",
       "      <td>2015.25000</td>\n",
       "      <td>4.00000</td>\n",
       "      <td>12.996690</td>\n",
       "    </tr>\n",
       "    <tr>\n",
       "      <td>max</td>\n",
       "      <td>2018.00000</td>\n",
       "      <td>4.00000</td>\n",
       "      <td>19.308607</td>\n",
       "    </tr>\n",
       "  </tbody>\n",
       "</table>\n",
       "</div>"
      ],
      "text/plain": [
       "              ano    quarter      precio\n",
       "count   840.00000  840.00000  840.000000\n",
       "mean   2012.90000    2.52500   11.545779\n",
       "std       3.08242    1.11842    2.271275\n",
       "min    2007.00000    1.00000    7.591541\n",
       "25%    2010.75000    2.00000    9.853159\n",
       "50%    2013.00000    2.00000   11.132781\n",
       "75%    2015.25000    4.00000   12.996690\n",
       "max    2018.00000    4.00000   19.308607"
      ]
     },
     "execution_count": 88,
     "metadata": {},
     "output_type": "execute_result"
    }
   ],
   "source": [
    "alquiler.describe()"
   ]
  },
  {
   "cell_type": "markdown",
   "metadata": {},
   "source": [
    "Podemos utilizar también `sum`, `mean`, `std`, `count`, `min`, `max`, ... sobre el DataFrame o una columna en concreto"
   ]
  },
  {
   "cell_type": "code",
   "execution_count": 89,
   "metadata": {},
   "outputs": [
    {
     "data": {
      "text/plain": [
       "ano        2012.900000\n",
       "quarter       2.525000\n",
       "precio       11.545779\n",
       "dtype: float64"
      ]
     },
     "execution_count": 89,
     "metadata": {},
     "output_type": "execute_result"
    }
   ],
   "source": [
    "alquiler.mean()"
   ]
  },
  {
   "cell_type": "code",
   "execution_count": 90,
   "metadata": {},
   "outputs": [
    {
     "data": {
      "text/plain": [
       "19.308606815183698"
      ]
     },
     "execution_count": 90,
     "metadata": {},
     "output_type": "execute_result"
    }
   ],
   "source": [
    "alquiler.precio.max()"
   ]
  },
  {
   "cell_type": "markdown",
   "metadata": {},
   "source": [
    "#### Ejercicio\n",
    "\n",
    "Extrae los cuantiles 0.1 y 0.9 del precio para el distrito `Tetuan`."
   ]
  },
  {
   "cell_type": "code",
   "execution_count": 96,
   "metadata": {},
   "outputs": [
    {
     "data": {
      "text/plain": [
       "ano        2017.00000\n",
       "quarter       4.00000\n",
       "precio       14.95403\n",
       "Name: 0.9, dtype: float64"
      ]
     },
     "execution_count": 96,
     "metadata": {},
     "output_type": "execute_result"
    }
   ],
   "source": [
    "alquiler.loc[(alquiler.distrito==\"Tetuan\")].quantile(0.1)\n",
    "alquiler.loc[(alquiler.distrito==\"Tetuan\")].quantile(0.9)"
   ]
  },
  {
   "cell_type": "markdown",
   "metadata": {},
   "source": [
    "## Agrupación\n",
    "\n",
    "De una forma equivalente a como hacemos en SQL, podemos agregar las tablas y sacar resúmenes de los grupos. La operación en pandas se hace en dos fases:\n",
    "\n",
    "* El `groupby`: donde especificamos la o las columnas por las que agregar\n",
    "* La aplicación de la función de agregación sobre una o varias columnas"
   ]
  },
  {
   "cell_type": "markdown",
   "metadata": {},
   "source": [
    "Un resumen usando una función de agregación sobre todas las columnas del DataFrame"
   ]
  },
  {
   "cell_type": "code",
   "execution_count": 97,
   "metadata": {},
   "outputs": [
    {
     "data": {
      "text/html": [
       "<div>\n",
       "<style scoped>\n",
       "    .dataframe tbody tr th:only-of-type {\n",
       "        vertical-align: middle;\n",
       "    }\n",
       "\n",
       "    .dataframe tbody tr th {\n",
       "        vertical-align: top;\n",
       "    }\n",
       "\n",
       "    .dataframe thead th {\n",
       "        text-align: right;\n",
       "    }\n",
       "</style>\n",
       "<table border=\"1\" class=\"dataframe\">\n",
       "  <thead>\n",
       "    <tr style=\"text-align: right;\">\n",
       "      <th></th>\n",
       "      <th>distrito</th>\n",
       "      <th>quarter</th>\n",
       "      <th>precio</th>\n",
       "    </tr>\n",
       "    <tr>\n",
       "      <th>ano</th>\n",
       "      <th></th>\n",
       "      <th></th>\n",
       "      <th></th>\n",
       "    </tr>\n",
       "  </thead>\n",
       "  <tbody>\n",
       "    <tr>\n",
       "      <td>2007</td>\n",
       "      <td>Villaverde</td>\n",
       "      <td>4</td>\n",
       "      <td>18.044594</td>\n",
       "    </tr>\n",
       "    <tr>\n",
       "      <td>2008</td>\n",
       "      <td>Villaverde</td>\n",
       "      <td>4</td>\n",
       "      <td>17.618608</td>\n",
       "    </tr>\n",
       "    <tr>\n",
       "      <td>2009</td>\n",
       "      <td>Villaverde</td>\n",
       "      <td>4</td>\n",
       "      <td>15.788713</td>\n",
       "    </tr>\n",
       "    <tr>\n",
       "      <td>2010</td>\n",
       "      <td>Villaverde</td>\n",
       "      <td>4</td>\n",
       "      <td>15.564614</td>\n",
       "    </tr>\n",
       "    <tr>\n",
       "      <td>2011</td>\n",
       "      <td>Villaverde</td>\n",
       "      <td>4</td>\n",
       "      <td>15.078333</td>\n",
       "    </tr>\n",
       "    <tr>\n",
       "      <td>2012</td>\n",
       "      <td>Villaverde</td>\n",
       "      <td>4</td>\n",
       "      <td>14.822377</td>\n",
       "    </tr>\n",
       "    <tr>\n",
       "      <td>2013</td>\n",
       "      <td>Villaverde</td>\n",
       "      <td>4</td>\n",
       "      <td>13.704467</td>\n",
       "    </tr>\n",
       "    <tr>\n",
       "      <td>2014</td>\n",
       "      <td>Villaverde</td>\n",
       "      <td>4</td>\n",
       "      <td>13.965912</td>\n",
       "    </tr>\n",
       "    <tr>\n",
       "      <td>2015</td>\n",
       "      <td>Villaverde</td>\n",
       "      <td>4</td>\n",
       "      <td>15.251220</td>\n",
       "    </tr>\n",
       "    <tr>\n",
       "      <td>2016</td>\n",
       "      <td>Villaverde</td>\n",
       "      <td>4</td>\n",
       "      <td>17.693730</td>\n",
       "    </tr>\n",
       "    <tr>\n",
       "      <td>2017</td>\n",
       "      <td>Villaverde</td>\n",
       "      <td>4</td>\n",
       "      <td>19.019364</td>\n",
       "    </tr>\n",
       "    <tr>\n",
       "      <td>2018</td>\n",
       "      <td>Villaverde</td>\n",
       "      <td>2</td>\n",
       "      <td>19.308607</td>\n",
       "    </tr>\n",
       "  </tbody>\n",
       "</table>\n",
       "</div>"
      ],
      "text/plain": [
       "        distrito  quarter     precio\n",
       "ano                                 \n",
       "2007  Villaverde        4  18.044594\n",
       "2008  Villaverde        4  17.618608\n",
       "2009  Villaverde        4  15.788713\n",
       "2010  Villaverde        4  15.564614\n",
       "2011  Villaverde        4  15.078333\n",
       "2012  Villaverde        4  14.822377\n",
       "2013  Villaverde        4  13.704467\n",
       "2014  Villaverde        4  13.965912\n",
       "2015  Villaverde        4  15.251220\n",
       "2016  Villaverde        4  17.693730\n",
       "2017  Villaverde        4  19.019364\n",
       "2018  Villaverde        2  19.308607"
      ]
     },
     "execution_count": 97,
     "metadata": {},
     "output_type": "execute_result"
    }
   ],
   "source": [
    "alquiler.groupby('ano').max()\n",
    "\n",
    "# Atención, fíjate bien en lo que hace esto. Saca el valor máximo de distrito (alfabéticamente),\n",
    "#  de quarter y precio (numéricamente), pero no representa filas completas\n",
    "# Es decir, Villaverde en el quarter 4 no tuvo ese precio"
   ]
  },
  {
   "cell_type": "markdown",
   "metadata": {},
   "source": [
    "Para hacerlo únicamente sobre una columna:"
   ]
  },
  {
   "cell_type": "code",
   "execution_count": 98,
   "metadata": {},
   "outputs": [
    {
     "data": {
      "text/plain": [
       "ano\n",
       "2007     9.592651\n",
       "2008    10.628444\n",
       "2009     9.764769\n",
       "2010     9.279254\n",
       "2011     9.089262\n",
       "2012     8.693941\n",
       "2013     7.933318\n",
       "2014     7.591541\n",
       "2015     7.754823\n",
       "2016     8.183480\n",
       "2017     9.210458\n",
       "2018     9.962139\n",
       "Name: precio, dtype: float64"
      ]
     },
     "execution_count": 98,
     "metadata": {},
     "output_type": "execute_result"
    }
   ],
   "source": [
    "alquiler.groupby('ano').precio.min()"
   ]
  },
  {
   "cell_type": "markdown",
   "metadata": {},
   "source": [
    "Para aplicar diferentes resúmenes sobre diferentes columnas"
   ]
  },
  {
   "cell_type": "code",
   "execution_count": 99,
   "metadata": {},
   "outputs": [
    {
     "data": {
      "text/html": [
       "<div>\n",
       "<style scoped>\n",
       "    .dataframe tbody tr th:only-of-type {\n",
       "        vertical-align: middle;\n",
       "    }\n",
       "\n",
       "    .dataframe tbody tr th {\n",
       "        vertical-align: top;\n",
       "    }\n",
       "\n",
       "    .dataframe thead th {\n",
       "        text-align: right;\n",
       "    }\n",
       "</style>\n",
       "<table border=\"1\" class=\"dataframe\">\n",
       "  <thead>\n",
       "    <tr style=\"text-align: right;\">\n",
       "      <th></th>\n",
       "      <th>precio</th>\n",
       "      <th>distrito</th>\n",
       "    </tr>\n",
       "    <tr>\n",
       "      <th>ano</th>\n",
       "      <th></th>\n",
       "      <th></th>\n",
       "    </tr>\n",
       "  </thead>\n",
       "  <tbody>\n",
       "    <tr>\n",
       "      <td>2007</td>\n",
       "      <td>12.679226</td>\n",
       "      <td>Arganzuela</td>\n",
       "    </tr>\n",
       "    <tr>\n",
       "      <td>2008</td>\n",
       "      <td>12.963422</td>\n",
       "      <td>Arganzuela</td>\n",
       "    </tr>\n",
       "    <tr>\n",
       "      <td>2009</td>\n",
       "      <td>11.900691</td>\n",
       "      <td>Arganzuela</td>\n",
       "    </tr>\n",
       "    <tr>\n",
       "      <td>2010</td>\n",
       "      <td>11.608368</td>\n",
       "      <td>Arganzuela</td>\n",
       "    </tr>\n",
       "    <tr>\n",
       "      <td>2011</td>\n",
       "      <td>11.461966</td>\n",
       "      <td>Arganzuela</td>\n",
       "    </tr>\n",
       "  </tbody>\n",
       "</table>\n",
       "</div>"
      ],
      "text/plain": [
       "         precio    distrito\n",
       "ano                        \n",
       "2007  12.679226  Arganzuela\n",
       "2008  12.963422  Arganzuela\n",
       "2009  11.900691  Arganzuela\n",
       "2010  11.608368  Arganzuela\n",
       "2011  11.461966  Arganzuela"
      ]
     },
     "execution_count": 99,
     "metadata": {},
     "output_type": "execute_result"
    }
   ],
   "source": [
    "tmp = alquiler.groupby('ano').agg({'precio': 'mean', 'distrito': 'first'})\n",
    "tmp.head()"
   ]
  },
  {
   "cell_type": "markdown",
   "metadata": {},
   "source": [
    "#### Ejercicio\n",
    "\n",
    "Extrae el precio máximo histórico para cada distrito a partir del 2010"
   ]
  },
  {
   "cell_type": "code",
   "execution_count": 104,
   "metadata": {},
   "outputs": [
    {
     "data": {
      "text/plain": [
       "distrito\n",
       "Arganzuela     14.851932\n",
       "Barajas        12.748770\n",
       "Carabanchel    11.657143\n",
       "Centro         19.308607\n",
       "Chamartín      16.606506\n",
       "Name: precio, dtype: float64"
      ]
     },
     "execution_count": 104,
     "metadata": {},
     "output_type": "execute_result"
    }
   ],
   "source": [
    "tmp = alquiler.loc[(alquiler.ano >= 2010)].groupby('distrito').precio.max()\n",
    "tmp.head()"
   ]
  },
  {
   "cell_type": "markdown",
   "metadata": {},
   "source": [
    "Puedes ver más información sobre agrupaciones en la [documentación de pandas](https://pandas.pydata.org/pandas-docs/stable/groupby.html). Es especialmente útil la parte sobre transformaciones."
   ]
  },
  {
   "cell_type": "markdown",
   "metadata": {},
   "source": [
    "## Cruce\n",
    "\n",
    "Podemos cruzar dos tablas por una o varias columnas en pandas, de forma equivalente a como hacemos en SQL, con [`merge`](https://pandas.pydata.org/pandas-docs/stable/generated/pandas.DataFrame.merge.html). También podemos usar los distintos tipos de cruce:\n",
    "\n",
    "* `inner`: para obtener solamente los registros que crucen en ambas tablas\n",
    "* `left` o `right`: para mantener los registros de una de las dos tablas, crucen o no con la otra\n",
    "* `outer`: para manter los registros de ambas tablas, crucen o no"
   ]
  },
  {
   "cell_type": "code",
   "execution_count": 105,
   "metadata": {},
   "outputs": [
    {
     "data": {
      "text/html": [
       "<div>\n",
       "<style scoped>\n",
       "    .dataframe tbody tr th:only-of-type {\n",
       "        vertical-align: middle;\n",
       "    }\n",
       "\n",
       "    .dataframe tbody tr th {\n",
       "        vertical-align: top;\n",
       "    }\n",
       "\n",
       "    .dataframe thead th {\n",
       "        text-align: right;\n",
       "    }\n",
       "</style>\n",
       "<table border=\"1\" class=\"dataframe\">\n",
       "  <thead>\n",
       "    <tr style=\"text-align: right;\">\n",
       "      <th></th>\n",
       "      <th>distrito</th>\n",
       "      <th>poblacion</th>\n",
       "    </tr>\n",
       "  </thead>\n",
       "  <tbody>\n",
       "    <tr>\n",
       "      <td>0</td>\n",
       "      <td>Moratalaz</td>\n",
       "      <td>95000</td>\n",
       "    </tr>\n",
       "    <tr>\n",
       "      <td>1</td>\n",
       "      <td>Centro</td>\n",
       "      <td>150000</td>\n",
       "    </tr>\n",
       "    <tr>\n",
       "      <td>2</td>\n",
       "      <td>Barajas</td>\n",
       "      <td>46000</td>\n",
       "    </tr>\n",
       "  </tbody>\n",
       "</table>\n",
       "</div>"
      ],
      "text/plain": [
       "    distrito  poblacion\n",
       "0  Moratalaz      95000\n",
       "1     Centro     150000\n",
       "2    Barajas      46000"
      ]
     },
     "execution_count": 105,
     "metadata": {},
     "output_type": "execute_result"
    }
   ],
   "source": [
    "# Aquí, además, un ejemplo de cómo crear un dataframe a partir de un diccionario\n",
    "df_ejemplo = pd.DataFrame({'distrito':  ['Moratalaz', 'Centro', 'Barajas'],\n",
    "                           'poblacion': [95000, 150000, 46000]})\n",
    "df_ejemplo"
   ]
  },
  {
   "cell_type": "code",
   "execution_count": 106,
   "metadata": {},
   "outputs": [
    {
     "data": {
      "text/html": [
       "<div>\n",
       "<style scoped>\n",
       "    .dataframe tbody tr th:only-of-type {\n",
       "        vertical-align: middle;\n",
       "    }\n",
       "\n",
       "    .dataframe tbody tr th {\n",
       "        vertical-align: top;\n",
       "    }\n",
       "\n",
       "    .dataframe thead th {\n",
       "        text-align: right;\n",
       "    }\n",
       "</style>\n",
       "<table border=\"1\" class=\"dataframe\">\n",
       "  <thead>\n",
       "    <tr style=\"text-align: right;\">\n",
       "      <th></th>\n",
       "      <th>distrito</th>\n",
       "      <th>poblacion</th>\n",
       "      <th>ano</th>\n",
       "      <th>quarter</th>\n",
       "      <th>precio</th>\n",
       "    </tr>\n",
       "  </thead>\n",
       "  <tbody>\n",
       "    <tr>\n",
       "      <td>0</td>\n",
       "      <td>Moratalaz</td>\n",
       "      <td>95000</td>\n",
       "      <td>2007</td>\n",
       "      <td>2</td>\n",
       "      <td>11.498611</td>\n",
       "    </tr>\n",
       "    <tr>\n",
       "      <td>1</td>\n",
       "      <td>Moratalaz</td>\n",
       "      <td>95000</td>\n",
       "      <td>2007</td>\n",
       "      <td>4</td>\n",
       "      <td>11.117894</td>\n",
       "    </tr>\n",
       "    <tr>\n",
       "      <td>2</td>\n",
       "      <td>Moratalaz</td>\n",
       "      <td>95000</td>\n",
       "      <td>2008</td>\n",
       "      <td>2</td>\n",
       "      <td>11.925685</td>\n",
       "    </tr>\n",
       "    <tr>\n",
       "      <td>3</td>\n",
       "      <td>Moratalaz</td>\n",
       "      <td>95000</td>\n",
       "      <td>2008</td>\n",
       "      <td>4</td>\n",
       "      <td>10.966299</td>\n",
       "    </tr>\n",
       "    <tr>\n",
       "      <td>4</td>\n",
       "      <td>Moratalaz</td>\n",
       "      <td>95000</td>\n",
       "      <td>2009</td>\n",
       "      <td>2</td>\n",
       "      <td>10.229014</td>\n",
       "    </tr>\n",
       "  </tbody>\n",
       "</table>\n",
       "</div>"
      ],
      "text/plain": [
       "    distrito  poblacion   ano  quarter     precio\n",
       "0  Moratalaz      95000  2007        2  11.498611\n",
       "1  Moratalaz      95000  2007        4  11.117894\n",
       "2  Moratalaz      95000  2008        2  11.925685\n",
       "3  Moratalaz      95000  2008        4  10.966299\n",
       "4  Moratalaz      95000  2009        2  10.229014"
      ]
     },
     "execution_count": 106,
     "metadata": {},
     "output_type": "execute_result"
    }
   ],
   "source": [
    "tmp = df_ejemplo.merge(alquiler, on='distrito')\n",
    "tmp.head()"
   ]
  },
  {
   "cell_type": "code",
   "execution_count": 107,
   "metadata": {},
   "outputs": [
    {
     "data": {
      "text/plain": [
       "120"
      ]
     },
     "execution_count": 107,
     "metadata": {},
     "output_type": "execute_result"
    }
   ],
   "source": [
    "len(tmp)"
   ]
  },
  {
   "cell_type": "code",
   "execution_count": 108,
   "metadata": {},
   "outputs": [
    {
     "data": {
      "text/html": [
       "<div>\n",
       "<style scoped>\n",
       "    .dataframe tbody tr th:only-of-type {\n",
       "        vertical-align: middle;\n",
       "    }\n",
       "\n",
       "    .dataframe tbody tr th {\n",
       "        vertical-align: top;\n",
       "    }\n",
       "\n",
       "    .dataframe thead th {\n",
       "        text-align: right;\n",
       "    }\n",
       "</style>\n",
       "<table border=\"1\" class=\"dataframe\">\n",
       "  <thead>\n",
       "    <tr style=\"text-align: right;\">\n",
       "      <th></th>\n",
       "      <th>distrito</th>\n",
       "      <th>poblacion</th>\n",
       "      <th>ano</th>\n",
       "      <th>quarter</th>\n",
       "      <th>precio</th>\n",
       "    </tr>\n",
       "  </thead>\n",
       "  <tbody>\n",
       "    <tr>\n",
       "      <td>835</td>\n",
       "      <td>Villaverde</td>\n",
       "      <td>NaN</td>\n",
       "      <td>2017</td>\n",
       "      <td>2</td>\n",
       "      <td>9.537615</td>\n",
       "    </tr>\n",
       "    <tr>\n",
       "      <td>836</td>\n",
       "      <td>Villaverde</td>\n",
       "      <td>NaN</td>\n",
       "      <td>2017</td>\n",
       "      <td>3</td>\n",
       "      <td>9.980975</td>\n",
       "    </tr>\n",
       "    <tr>\n",
       "      <td>837</td>\n",
       "      <td>Villaverde</td>\n",
       "      <td>NaN</td>\n",
       "      <td>2017</td>\n",
       "      <td>4</td>\n",
       "      <td>10.296415</td>\n",
       "    </tr>\n",
       "    <tr>\n",
       "      <td>838</td>\n",
       "      <td>Villaverde</td>\n",
       "      <td>NaN</td>\n",
       "      <td>2018</td>\n",
       "      <td>1</td>\n",
       "      <td>10.230638</td>\n",
       "    </tr>\n",
       "    <tr>\n",
       "      <td>839</td>\n",
       "      <td>Villaverde</td>\n",
       "      <td>NaN</td>\n",
       "      <td>2018</td>\n",
       "      <td>2</td>\n",
       "      <td>10.427527</td>\n",
       "    </tr>\n",
       "  </tbody>\n",
       "</table>\n",
       "</div>"
      ],
      "text/plain": [
       "       distrito  poblacion   ano  quarter     precio\n",
       "835  Villaverde        NaN  2017        2   9.537615\n",
       "836  Villaverde        NaN  2017        3   9.980975\n",
       "837  Villaverde        NaN  2017        4  10.296415\n",
       "838  Villaverde        NaN  2018        1  10.230638\n",
       "839  Villaverde        NaN  2018        2  10.427527"
      ]
     },
     "execution_count": 108,
     "metadata": {},
     "output_type": "execute_result"
    }
   ],
   "source": [
    "tmp = df_ejemplo.merge(alquiler, on='distrito', how='right')\n",
    "tmp.tail()"
   ]
  },
  {
   "cell_type": "code",
   "execution_count": 109,
   "metadata": {},
   "outputs": [
    {
     "data": {
      "text/plain": [
       "840"
      ]
     },
     "execution_count": 109,
     "metadata": {},
     "output_type": "execute_result"
    }
   ],
   "source": [
    "len(tmp)"
   ]
  },
  {
   "cell_type": "markdown",
   "metadata": {},
   "source": [
    "#### Ejercicio\n",
    "\n",
    "* Carga en un DataFrame el CSV `dat/venta-madrid-distritos.csv`\n",
    "* Crúzalo con el que ya tenemos de alquiler. El objetivo es tener, para cada distrito, año y cuatrimestre, tanto el precio de alquiler como el de venta del metro cuadrado. Para saber cómo poner sufijos a las columnas que colisionan en el cruce, mira la documentación de `merge`.\n",
    "* Extrae los precios medios de venta y alquiler por distrito para todo el histórico\n",
    "* Extrae, para el año y cuatrimestre más reciente del que haya datos, el distrito donde es más rentable comprar una vivienda para destinarla a alquiler. Es decir, con el ratio precio alquiler / precio venta más alto."
   ]
  },
  {
   "cell_type": "code",
   "execution_count": 131,
   "metadata": {},
   "outputs": [
    {
     "name": "stderr",
     "output_type": "stream",
     "text": [
      "C:\\Users\\vince\\Anaconda3\\lib\\site-packages\\ipykernel_launcher.py:9: SettingWithCopyWarning: \n",
      "A value is trying to be set on a copy of a slice from a DataFrame.\n",
      "Try using .loc[row_indexer,col_indexer] = value instead\n",
      "\n",
      "See the caveats in the documentation: http://pandas.pydata.org/pandas-docs/stable/user_guide/indexing.html#returning-a-view-versus-a-copy\n",
      "  if __name__ == '__main__':\n"
     ]
    },
    {
     "data": {
      "text/html": [
       "<div>\n",
       "<style scoped>\n",
       "    .dataframe tbody tr th:only-of-type {\n",
       "        vertical-align: middle;\n",
       "    }\n",
       "\n",
       "    .dataframe tbody tr th {\n",
       "        vertical-align: top;\n",
       "    }\n",
       "\n",
       "    .dataframe thead th {\n",
       "        text-align: right;\n",
       "    }\n",
       "</style>\n",
       "<table border=\"1\" class=\"dataframe\">\n",
       "  <thead>\n",
       "    <tr style=\"text-align: right;\">\n",
       "      <th></th>\n",
       "      <th>distrito</th>\n",
       "      <th>ano</th>\n",
       "      <th>quarter</th>\n",
       "      <th>precio_venta</th>\n",
       "      <th>precio_alquiler</th>\n",
       "      <th>ratio</th>\n",
       "    </tr>\n",
       "  </thead>\n",
       "  <tbody>\n",
       "    <tr>\n",
       "      <td>792</td>\n",
       "      <td>Puente De Vallecas</td>\n",
       "      <td>2018</td>\n",
       "      <td>2</td>\n",
       "      <td>1732.715346</td>\n",
       "      <td>11.875100</td>\n",
       "      <td>0.006853</td>\n",
       "    </tr>\n",
       "    <tr>\n",
       "      <td>799</td>\n",
       "      <td>Villaverde</td>\n",
       "      <td>2018</td>\n",
       "      <td>2</td>\n",
       "      <td>1578.197261</td>\n",
       "      <td>10.427527</td>\n",
       "      <td>0.006607</td>\n",
       "    </tr>\n",
       "    <tr>\n",
       "      <td>796</td>\n",
       "      <td>Usera</td>\n",
       "      <td>2018</td>\n",
       "      <td>2</td>\n",
       "      <td>1892.734745</td>\n",
       "      <td>11.533458</td>\n",
       "      <td>0.006094</td>\n",
       "    </tr>\n",
       "    <tr>\n",
       "      <td>782</td>\n",
       "      <td>Carabanchel</td>\n",
       "      <td>2018</td>\n",
       "      <td>2</td>\n",
       "      <td>2058.729335</td>\n",
       "      <td>11.613533</td>\n",
       "      <td>0.005641</td>\n",
       "    </tr>\n",
       "    <tr>\n",
       "      <td>789</td>\n",
       "      <td>Latina</td>\n",
       "      <td>2018</td>\n",
       "      <td>2</td>\n",
       "      <td>2146.217083</td>\n",
       "      <td>11.479019</td>\n",
       "      <td>0.005348</td>\n",
       "    </tr>\n",
       "  </tbody>\n",
       "</table>\n",
       "</div>"
      ],
      "text/plain": [
       "               distrito   ano  quarter  precio_venta  precio_alquiler  \\\n",
       "792  Puente De Vallecas  2018        2   1732.715346        11.875100   \n",
       "799          Villaverde  2018        2   1578.197261        10.427527   \n",
       "796               Usera  2018        2   1892.734745        11.533458   \n",
       "782         Carabanchel  2018        2   2058.729335        11.613533   \n",
       "789              Latina  2018        2   2146.217083        11.479019   \n",
       "\n",
       "        ratio  \n",
       "792  0.006853  \n",
       "799  0.006607  \n",
       "796  0.006094  \n",
       "782  0.005641  \n",
       "789  0.005348  "
      ]
     },
     "execution_count": 131,
     "metadata": {},
     "output_type": "execute_result"
    }
   ],
   "source": [
    "venta_madrid_distritos = pd.read_csv('dat/venta-madrid-distritos.csv')\n",
    "alquiler_venta = venta_madrid_distritos.merge(alquiler, on=['distrito', 'ano', 'quarter'], suffixes=('_venta', '_alquiler'))\n",
    "alquiler_venta_distrito = alquiler_venta.groupby('distrito').agg({'precio_venta': 'mean', 'precio_alquiler': 'mean'})\n",
    "alquiler_venta_distrito.head()\n",
    "\n",
    "alquiler_venta_2018_2 = alquiler_venta.loc[(alquiler_venta.ano == 2018) & (alquiler_venta.quarter == 2)]\n",
    "alquiler_venta_2018_2.head()\n",
    "\n",
    "alquiler_venta_2018_2['ratio'] = alquiler_venta_2018_2.apply(lambda fila: fila.precio_alquiler / fila.precio_venta, axis=1)\n",
    "alquiler_venta_2018_2.sort_values('ratio', ascending=False).head()\n"
   ]
  }
 ],
 "metadata": {
  "kernelspec": {
   "display_name": "Python 3",
   "language": "python",
   "name": "python3"
  },
  "language_info": {
   "codemirror_mode": {
    "name": "ipython",
    "version": 3
   },
   "file_extension": ".py",
   "mimetype": "text/x-python",
   "name": "python",
   "nbconvert_exporter": "python",
   "pygments_lexer": "ipython3",
   "version": "3.7.4"
  }
 },
 "nbformat": 4,
 "nbformat_minor": 2
}
